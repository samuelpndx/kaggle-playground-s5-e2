{
 "cells": [
  {
   "cell_type": "markdown",
   "id": "784f77f7",
   "metadata": {
    "papermill": {
     "duration": 0.010148,
     "end_time": "2025-02-28T21:49:55.407771",
     "exception": false,
     "start_time": "2025-02-28T21:49:55.397623",
     "status": "completed"
    },
    "tags": []
   },
   "source": [
    "# **Backpack Prediction Challenge**"
   ]
  },
  {
   "cell_type": "markdown",
   "id": "0c4d033b",
   "metadata": {
    "papermill": {
     "duration": 0.009111,
     "end_time": "2025-02-28T21:49:55.426436",
     "exception": false,
     "start_time": "2025-02-28T21:49:55.417325",
     "status": "completed"
    },
    "tags": []
   },
   "source": [
    "### Playground Series - Season 5, Episode 2"
   ]
  },
  {
   "cell_type": "markdown",
   "id": "d03f50ed",
   "metadata": {
    "papermill": {
     "duration": 0.009044,
     "end_time": "2025-02-28T21:49:55.444726",
     "exception": false,
     "start_time": "2025-02-28T21:49:55.435682",
     "status": "completed"
    },
    "tags": []
   },
   "source": [
    "**Goal**: Predict the price of backpacks given various attributes\n",
    "\n",
    "**Evaluation**: RMSE\n",
    "\n",
    "**Start Date**: February 1, 2025\n",
    "\n",
    "**Final Submission Deadline**: February 28, 2025"
   ]
  },
  {
   "cell_type": "markdown",
   "id": "db5117b6",
   "metadata": {
    "papermill": {
     "duration": 0.0091,
     "end_time": "2025-02-28T21:49:55.463433",
     "exception": false,
     "start_time": "2025-02-28T21:49:55.454333",
     "status": "completed"
    },
    "tags": []
   },
   "source": [
    "## Importing Libraries:"
   ]
  },
  {
   "cell_type": "code",
   "execution_count": 1,
   "id": "0e1e185d",
   "metadata": {
    "_cell_guid": "b1076dfc-b9ad-4769-8c92-a6c4dae69d19",
    "_uuid": "8f2839f25d086af736a60e9eeb907d3b93b6e0e5",
    "execution": {
     "iopub.execute_input": "2025-02-28T21:49:55.483116Z",
     "iopub.status.busy": "2025-02-28T21:49:55.482811Z",
     "iopub.status.idle": "2025-02-28T21:49:57.815015Z",
     "shell.execute_reply": "2025-02-28T21:49:57.814112Z"
    },
    "papermill": {
     "duration": 2.343971,
     "end_time": "2025-02-28T21:49:57.816589",
     "exception": false,
     "start_time": "2025-02-28T21:49:55.472618",
     "status": "completed"
    },
    "tags": []
   },
   "outputs": [],
   "source": [
    "import pandas as pd\n",
    "import matplotlib.pyplot as plt\n",
    "import seaborn as sns\n",
    "import numpy as np\n",
    "import warnings\n",
    "warnings.filterwarnings('ignore')\n",
    "import xgboost as xgb\n",
    "from sklearn.model_selection import train_test_split, GridSearchCV\n",
    "from sklearn.metrics import mean_squared_error"
   ]
  },
  {
   "cell_type": "markdown",
   "id": "a93299bf",
   "metadata": {
    "papermill": {
     "duration": 0.009505,
     "end_time": "2025-02-28T21:49:57.836025",
     "exception": false,
     "start_time": "2025-02-28T21:49:57.826520",
     "status": "completed"
    },
    "tags": []
   },
   "source": [
    "## Loading datasets"
   ]
  },
  {
   "cell_type": "code",
   "execution_count": 2,
   "id": "dcd3cac5",
   "metadata": {
    "execution": {
     "iopub.execute_input": "2025-02-28T21:49:57.855416Z",
     "iopub.status.busy": "2025-02-28T21:49:57.855031Z",
     "iopub.status.idle": "2025-02-28T21:50:06.484399Z",
     "shell.execute_reply": "2025-02-28T21:50:06.483664Z"
    },
    "papermill": {
     "duration": 8.640602,
     "end_time": "2025-02-28T21:50:06.485923",
     "exception": false,
     "start_time": "2025-02-28T21:49:57.845321",
     "status": "completed"
    },
    "tags": []
   },
   "outputs": [],
   "source": [
    "train = pd.read_csv('/kaggle/input/playground-series-s5e2/train.csv')\n",
    "train_extra = pd.read_csv('/kaggle/input/playground-series-s5e2/training_extra.csv')\n",
    "test = pd.read_csv('/kaggle/input/playground-series-s5e2/test.csv')\n",
    "submission = pd.read_csv('/kaggle/input/playground-series-s5e2/sample_submission.csv')"
   ]
  },
  {
   "cell_type": "markdown",
   "id": "469a610b",
   "metadata": {
    "papermill": {
     "duration": 0.009327,
     "end_time": "2025-02-28T21:50:06.504954",
     "exception": false,
     "start_time": "2025-02-28T21:50:06.495627",
     "status": "completed"
    },
    "tags": []
   },
   "source": [
    "## Dataset Summary"
   ]
  },
  {
   "cell_type": "code",
   "execution_count": 3,
   "id": "6291348a",
   "metadata": {
    "execution": {
     "iopub.execute_input": "2025-02-28T21:50:06.524189Z",
     "iopub.status.busy": "2025-02-28T21:50:06.523907Z",
     "iopub.status.idle": "2025-02-28T21:50:06.547721Z",
     "shell.execute_reply": "2025-02-28T21:50:06.546936Z"
    },
    "papermill": {
     "duration": 0.034866,
     "end_time": "2025-02-28T21:50:06.549014",
     "exception": false,
     "start_time": "2025-02-28T21:50:06.514148",
     "status": "completed"
    },
    "tags": []
   },
   "outputs": [
    {
     "data": {
      "text/html": [
       "<div>\n",
       "<style scoped>\n",
       "    .dataframe tbody tr th:only-of-type {\n",
       "        vertical-align: middle;\n",
       "    }\n",
       "\n",
       "    .dataframe tbody tr th {\n",
       "        vertical-align: top;\n",
       "    }\n",
       "\n",
       "    .dataframe thead th {\n",
       "        text-align: right;\n",
       "    }\n",
       "</style>\n",
       "<table border=\"1\" class=\"dataframe\">\n",
       "  <thead>\n",
       "    <tr style=\"text-align: right;\">\n",
       "      <th></th>\n",
       "      <th>id</th>\n",
       "      <th>Brand</th>\n",
       "      <th>Material</th>\n",
       "      <th>Size</th>\n",
       "      <th>Compartments</th>\n",
       "      <th>Laptop Compartment</th>\n",
       "      <th>Waterproof</th>\n",
       "      <th>Style</th>\n",
       "      <th>Color</th>\n",
       "      <th>Weight Capacity (kg)</th>\n",
       "      <th>Price</th>\n",
       "    </tr>\n",
       "  </thead>\n",
       "  <tbody>\n",
       "    <tr>\n",
       "      <th>0</th>\n",
       "      <td>0</td>\n",
       "      <td>Jansport</td>\n",
       "      <td>Leather</td>\n",
       "      <td>Medium</td>\n",
       "      <td>7.0</td>\n",
       "      <td>Yes</td>\n",
       "      <td>No</td>\n",
       "      <td>Tote</td>\n",
       "      <td>Black</td>\n",
       "      <td>11.611723</td>\n",
       "      <td>112.15875</td>\n",
       "    </tr>\n",
       "    <tr>\n",
       "      <th>1</th>\n",
       "      <td>1</td>\n",
       "      <td>Jansport</td>\n",
       "      <td>Canvas</td>\n",
       "      <td>Small</td>\n",
       "      <td>10.0</td>\n",
       "      <td>Yes</td>\n",
       "      <td>Yes</td>\n",
       "      <td>Messenger</td>\n",
       "      <td>Green</td>\n",
       "      <td>27.078537</td>\n",
       "      <td>68.88056</td>\n",
       "    </tr>\n",
       "    <tr>\n",
       "      <th>2</th>\n",
       "      <td>2</td>\n",
       "      <td>Under Armour</td>\n",
       "      <td>Leather</td>\n",
       "      <td>Small</td>\n",
       "      <td>2.0</td>\n",
       "      <td>Yes</td>\n",
       "      <td>No</td>\n",
       "      <td>Messenger</td>\n",
       "      <td>Red</td>\n",
       "      <td>16.643760</td>\n",
       "      <td>39.17320</td>\n",
       "    </tr>\n",
       "    <tr>\n",
       "      <th>3</th>\n",
       "      <td>3</td>\n",
       "      <td>Nike</td>\n",
       "      <td>Nylon</td>\n",
       "      <td>Small</td>\n",
       "      <td>8.0</td>\n",
       "      <td>Yes</td>\n",
       "      <td>No</td>\n",
       "      <td>Messenger</td>\n",
       "      <td>Green</td>\n",
       "      <td>12.937220</td>\n",
       "      <td>80.60793</td>\n",
       "    </tr>\n",
       "    <tr>\n",
       "      <th>4</th>\n",
       "      <td>4</td>\n",
       "      <td>Adidas</td>\n",
       "      <td>Canvas</td>\n",
       "      <td>Medium</td>\n",
       "      <td>1.0</td>\n",
       "      <td>Yes</td>\n",
       "      <td>Yes</td>\n",
       "      <td>Messenger</td>\n",
       "      <td>Green</td>\n",
       "      <td>17.749338</td>\n",
       "      <td>86.02312</td>\n",
       "    </tr>\n",
       "  </tbody>\n",
       "</table>\n",
       "</div>"
      ],
      "text/plain": [
       "   id         Brand Material    Size  Compartments Laptop Compartment  \\\n",
       "0   0      Jansport  Leather  Medium           7.0                Yes   \n",
       "1   1      Jansport   Canvas   Small          10.0                Yes   \n",
       "2   2  Under Armour  Leather   Small           2.0                Yes   \n",
       "3   3          Nike    Nylon   Small           8.0                Yes   \n",
       "4   4        Adidas   Canvas  Medium           1.0                Yes   \n",
       "\n",
       "  Waterproof      Style  Color  Weight Capacity (kg)      Price  \n",
       "0         No       Tote  Black             11.611723  112.15875  \n",
       "1        Yes  Messenger  Green             27.078537   68.88056  \n",
       "2         No  Messenger    Red             16.643760   39.17320  \n",
       "3         No  Messenger  Green             12.937220   80.60793  \n",
       "4        Yes  Messenger  Green             17.749338   86.02312  "
      ]
     },
     "execution_count": 3,
     "metadata": {},
     "output_type": "execute_result"
    }
   ],
   "source": [
    "train.head()"
   ]
  },
  {
   "cell_type": "code",
   "execution_count": 4,
   "id": "7595cc9a",
   "metadata": {
    "execution": {
     "iopub.execute_input": "2025-02-28T21:50:06.568825Z",
     "iopub.status.busy": "2025-02-28T21:50:06.568609Z",
     "iopub.status.idle": "2025-02-28T21:50:06.579195Z",
     "shell.execute_reply": "2025-02-28T21:50:06.578421Z"
    },
    "papermill": {
     "duration": 0.021676,
     "end_time": "2025-02-28T21:50:06.580493",
     "exception": false,
     "start_time": "2025-02-28T21:50:06.558817",
     "status": "completed"
    },
    "tags": []
   },
   "outputs": [
    {
     "data": {
      "text/html": [
       "<div>\n",
       "<style scoped>\n",
       "    .dataframe tbody tr th:only-of-type {\n",
       "        vertical-align: middle;\n",
       "    }\n",
       "\n",
       "    .dataframe tbody tr th {\n",
       "        vertical-align: top;\n",
       "    }\n",
       "\n",
       "    .dataframe thead th {\n",
       "        text-align: right;\n",
       "    }\n",
       "</style>\n",
       "<table border=\"1\" class=\"dataframe\">\n",
       "  <thead>\n",
       "    <tr style=\"text-align: right;\">\n",
       "      <th></th>\n",
       "      <th>id</th>\n",
       "      <th>Brand</th>\n",
       "      <th>Material</th>\n",
       "      <th>Size</th>\n",
       "      <th>Compartments</th>\n",
       "      <th>Laptop Compartment</th>\n",
       "      <th>Waterproof</th>\n",
       "      <th>Style</th>\n",
       "      <th>Color</th>\n",
       "      <th>Weight Capacity (kg)</th>\n",
       "      <th>Price</th>\n",
       "    </tr>\n",
       "  </thead>\n",
       "  <tbody>\n",
       "    <tr>\n",
       "      <th>0</th>\n",
       "      <td>500000</td>\n",
       "      <td>Under Armour</td>\n",
       "      <td>Canvas</td>\n",
       "      <td>Small</td>\n",
       "      <td>10.0</td>\n",
       "      <td>Yes</td>\n",
       "      <td>Yes</td>\n",
       "      <td>Tote</td>\n",
       "      <td>Blue</td>\n",
       "      <td>23.882052</td>\n",
       "      <td>114.11068</td>\n",
       "    </tr>\n",
       "    <tr>\n",
       "      <th>1</th>\n",
       "      <td>500001</td>\n",
       "      <td>Puma</td>\n",
       "      <td>Polyester</td>\n",
       "      <td>Small</td>\n",
       "      <td>4.0</td>\n",
       "      <td>No</td>\n",
       "      <td>Yes</td>\n",
       "      <td>Backpack</td>\n",
       "      <td>Green</td>\n",
       "      <td>11.869095</td>\n",
       "      <td>129.74972</td>\n",
       "    </tr>\n",
       "    <tr>\n",
       "      <th>2</th>\n",
       "      <td>500002</td>\n",
       "      <td>Jansport</td>\n",
       "      <td>Polyester</td>\n",
       "      <td>Small</td>\n",
       "      <td>8.0</td>\n",
       "      <td>Yes</td>\n",
       "      <td>Yes</td>\n",
       "      <td>Tote</td>\n",
       "      <td>Red</td>\n",
       "      <td>8.092302</td>\n",
       "      <td>21.37370</td>\n",
       "    </tr>\n",
       "    <tr>\n",
       "      <th>3</th>\n",
       "      <td>500003</td>\n",
       "      <td>Nike</td>\n",
       "      <td>Nylon</td>\n",
       "      <td>Large</td>\n",
       "      <td>7.0</td>\n",
       "      <td>No</td>\n",
       "      <td>No</td>\n",
       "      <td>Messenger</td>\n",
       "      <td>Pink</td>\n",
       "      <td>7.719581</td>\n",
       "      <td>48.09209</td>\n",
       "    </tr>\n",
       "    <tr>\n",
       "      <th>4</th>\n",
       "      <td>500004</td>\n",
       "      <td>Nike</td>\n",
       "      <td>Leather</td>\n",
       "      <td>Large</td>\n",
       "      <td>9.0</td>\n",
       "      <td>No</td>\n",
       "      <td>Yes</td>\n",
       "      <td>Tote</td>\n",
       "      <td>Green</td>\n",
       "      <td>22.741826</td>\n",
       "      <td>77.32461</td>\n",
       "    </tr>\n",
       "  </tbody>\n",
       "</table>\n",
       "</div>"
      ],
      "text/plain": [
       "       id         Brand   Material   Size  Compartments Laptop Compartment  \\\n",
       "0  500000  Under Armour     Canvas  Small          10.0                Yes   \n",
       "1  500001          Puma  Polyester  Small           4.0                 No   \n",
       "2  500002      Jansport  Polyester  Small           8.0                Yes   \n",
       "3  500003          Nike      Nylon  Large           7.0                 No   \n",
       "4  500004          Nike    Leather  Large           9.0                 No   \n",
       "\n",
       "  Waterproof      Style  Color  Weight Capacity (kg)      Price  \n",
       "0        Yes       Tote   Blue             23.882052  114.11068  \n",
       "1        Yes   Backpack  Green             11.869095  129.74972  \n",
       "2        Yes       Tote    Red              8.092302   21.37370  \n",
       "3         No  Messenger   Pink              7.719581   48.09209  \n",
       "4        Yes       Tote  Green             22.741826   77.32461  "
      ]
     },
     "execution_count": 4,
     "metadata": {},
     "output_type": "execute_result"
    }
   ],
   "source": [
    "train_extra.head()"
   ]
  },
  {
   "cell_type": "code",
   "execution_count": 5,
   "id": "be784c06",
   "metadata": {
    "execution": {
     "iopub.execute_input": "2025-02-28T21:50:06.600541Z",
     "iopub.status.busy": "2025-02-28T21:50:06.600318Z",
     "iopub.status.idle": "2025-02-28T21:50:06.610665Z",
     "shell.execute_reply": "2025-02-28T21:50:06.609849Z"
    },
    "papermill": {
     "duration": 0.021665,
     "end_time": "2025-02-28T21:50:06.611792",
     "exception": false,
     "start_time": "2025-02-28T21:50:06.590127",
     "status": "completed"
    },
    "tags": []
   },
   "outputs": [
    {
     "data": {
      "text/html": [
       "<div>\n",
       "<style scoped>\n",
       "    .dataframe tbody tr th:only-of-type {\n",
       "        vertical-align: middle;\n",
       "    }\n",
       "\n",
       "    .dataframe tbody tr th {\n",
       "        vertical-align: top;\n",
       "    }\n",
       "\n",
       "    .dataframe thead th {\n",
       "        text-align: right;\n",
       "    }\n",
       "</style>\n",
       "<table border=\"1\" class=\"dataframe\">\n",
       "  <thead>\n",
       "    <tr style=\"text-align: right;\">\n",
       "      <th></th>\n",
       "      <th>id</th>\n",
       "      <th>Brand</th>\n",
       "      <th>Material</th>\n",
       "      <th>Size</th>\n",
       "      <th>Compartments</th>\n",
       "      <th>Laptop Compartment</th>\n",
       "      <th>Waterproof</th>\n",
       "      <th>Style</th>\n",
       "      <th>Color</th>\n",
       "      <th>Weight Capacity (kg)</th>\n",
       "    </tr>\n",
       "  </thead>\n",
       "  <tbody>\n",
       "    <tr>\n",
       "      <th>0</th>\n",
       "      <td>300000</td>\n",
       "      <td>Puma</td>\n",
       "      <td>Leather</td>\n",
       "      <td>Small</td>\n",
       "      <td>2.0</td>\n",
       "      <td>No</td>\n",
       "      <td>No</td>\n",
       "      <td>Tote</td>\n",
       "      <td>Green</td>\n",
       "      <td>20.671147</td>\n",
       "    </tr>\n",
       "    <tr>\n",
       "      <th>1</th>\n",
       "      <td>300001</td>\n",
       "      <td>Nike</td>\n",
       "      <td>Canvas</td>\n",
       "      <td>Medium</td>\n",
       "      <td>7.0</td>\n",
       "      <td>No</td>\n",
       "      <td>Yes</td>\n",
       "      <td>Backpack</td>\n",
       "      <td>Green</td>\n",
       "      <td>13.564105</td>\n",
       "    </tr>\n",
       "    <tr>\n",
       "      <th>2</th>\n",
       "      <td>300002</td>\n",
       "      <td>Adidas</td>\n",
       "      <td>Canvas</td>\n",
       "      <td>Large</td>\n",
       "      <td>9.0</td>\n",
       "      <td>No</td>\n",
       "      <td>Yes</td>\n",
       "      <td>Messenger</td>\n",
       "      <td>Blue</td>\n",
       "      <td>11.809799</td>\n",
       "    </tr>\n",
       "    <tr>\n",
       "      <th>3</th>\n",
       "      <td>300003</td>\n",
       "      <td>Adidas</td>\n",
       "      <td>Nylon</td>\n",
       "      <td>Large</td>\n",
       "      <td>1.0</td>\n",
       "      <td>Yes</td>\n",
       "      <td>No</td>\n",
       "      <td>Messenger</td>\n",
       "      <td>Green</td>\n",
       "      <td>18.477036</td>\n",
       "    </tr>\n",
       "    <tr>\n",
       "      <th>4</th>\n",
       "      <td>300004</td>\n",
       "      <td>NaN</td>\n",
       "      <td>Nylon</td>\n",
       "      <td>Large</td>\n",
       "      <td>2.0</td>\n",
       "      <td>Yes</td>\n",
       "      <td>Yes</td>\n",
       "      <td>Tote</td>\n",
       "      <td>Black</td>\n",
       "      <td>9.907953</td>\n",
       "    </tr>\n",
       "  </tbody>\n",
       "</table>\n",
       "</div>"
      ],
      "text/plain": [
       "       id   Brand Material    Size  Compartments Laptop Compartment  \\\n",
       "0  300000    Puma  Leather   Small           2.0                 No   \n",
       "1  300001    Nike   Canvas  Medium           7.0                 No   \n",
       "2  300002  Adidas   Canvas   Large           9.0                 No   \n",
       "3  300003  Adidas    Nylon   Large           1.0                Yes   \n",
       "4  300004     NaN    Nylon   Large           2.0                Yes   \n",
       "\n",
       "  Waterproof      Style  Color  Weight Capacity (kg)  \n",
       "0         No       Tote  Green             20.671147  \n",
       "1        Yes   Backpack  Green             13.564105  \n",
       "2        Yes  Messenger   Blue             11.809799  \n",
       "3         No  Messenger  Green             18.477036  \n",
       "4        Yes       Tote  Black              9.907953  "
      ]
     },
     "execution_count": 5,
     "metadata": {},
     "output_type": "execute_result"
    }
   ],
   "source": [
    "test.head()"
   ]
  },
  {
   "cell_type": "code",
   "execution_count": 6,
   "id": "43218263",
   "metadata": {
    "execution": {
     "iopub.execute_input": "2025-02-28T21:50:06.631992Z",
     "iopub.status.busy": "2025-02-28T21:50:06.631770Z",
     "iopub.status.idle": "2025-02-28T21:50:06.638118Z",
     "shell.execute_reply": "2025-02-28T21:50:06.637328Z"
    },
    "papermill": {
     "duration": 0.017576,
     "end_time": "2025-02-28T21:50:06.639306",
     "exception": false,
     "start_time": "2025-02-28T21:50:06.621730",
     "status": "completed"
    },
    "tags": []
   },
   "outputs": [
    {
     "data": {
      "text/html": [
       "<div>\n",
       "<style scoped>\n",
       "    .dataframe tbody tr th:only-of-type {\n",
       "        vertical-align: middle;\n",
       "    }\n",
       "\n",
       "    .dataframe tbody tr th {\n",
       "        vertical-align: top;\n",
       "    }\n",
       "\n",
       "    .dataframe thead th {\n",
       "        text-align: right;\n",
       "    }\n",
       "</style>\n",
       "<table border=\"1\" class=\"dataframe\">\n",
       "  <thead>\n",
       "    <tr style=\"text-align: right;\">\n",
       "      <th></th>\n",
       "      <th>id</th>\n",
       "      <th>Price</th>\n",
       "    </tr>\n",
       "  </thead>\n",
       "  <tbody>\n",
       "    <tr>\n",
       "      <th>0</th>\n",
       "      <td>300000</td>\n",
       "      <td>81.411</td>\n",
       "    </tr>\n",
       "    <tr>\n",
       "      <th>1</th>\n",
       "      <td>300001</td>\n",
       "      <td>81.411</td>\n",
       "    </tr>\n",
       "    <tr>\n",
       "      <th>2</th>\n",
       "      <td>300002</td>\n",
       "      <td>81.411</td>\n",
       "    </tr>\n",
       "    <tr>\n",
       "      <th>3</th>\n",
       "      <td>300003</td>\n",
       "      <td>81.411</td>\n",
       "    </tr>\n",
       "    <tr>\n",
       "      <th>4</th>\n",
       "      <td>300004</td>\n",
       "      <td>81.411</td>\n",
       "    </tr>\n",
       "  </tbody>\n",
       "</table>\n",
       "</div>"
      ],
      "text/plain": [
       "       id   Price\n",
       "0  300000  81.411\n",
       "1  300001  81.411\n",
       "2  300002  81.411\n",
       "3  300003  81.411\n",
       "4  300004  81.411"
      ]
     },
     "execution_count": 6,
     "metadata": {},
     "output_type": "execute_result"
    }
   ],
   "source": [
    "submission.head()"
   ]
  },
  {
   "cell_type": "code",
   "execution_count": 7,
   "id": "df66443f",
   "metadata": {
    "execution": {
     "iopub.execute_input": "2025-02-28T21:50:06.659668Z",
     "iopub.status.busy": "2025-02-28T21:50:06.659446Z",
     "iopub.status.idle": "2025-02-28T21:50:06.716347Z",
     "shell.execute_reply": "2025-02-28T21:50:06.715580Z"
    },
    "papermill": {
     "duration": 0.068537,
     "end_time": "2025-02-28T21:50:06.717665",
     "exception": false,
     "start_time": "2025-02-28T21:50:06.649128",
     "status": "completed"
    },
    "tags": []
   },
   "outputs": [
    {
     "data": {
      "text/html": [
       "<div>\n",
       "<style scoped>\n",
       "    .dataframe tbody tr th:only-of-type {\n",
       "        vertical-align: middle;\n",
       "    }\n",
       "\n",
       "    .dataframe tbody tr th {\n",
       "        vertical-align: top;\n",
       "    }\n",
       "\n",
       "    .dataframe thead th {\n",
       "        text-align: right;\n",
       "    }\n",
       "</style>\n",
       "<table border=\"1\" class=\"dataframe\">\n",
       "  <thead>\n",
       "    <tr style=\"text-align: right;\">\n",
       "      <th></th>\n",
       "      <th>id</th>\n",
       "      <th>Compartments</th>\n",
       "      <th>Weight Capacity (kg)</th>\n",
       "      <th>Price</th>\n",
       "    </tr>\n",
       "  </thead>\n",
       "  <tbody>\n",
       "    <tr>\n",
       "      <th>count</th>\n",
       "      <td>300000.000000</td>\n",
       "      <td>300000.000000</td>\n",
       "      <td>299862.000000</td>\n",
       "      <td>300000.000000</td>\n",
       "    </tr>\n",
       "    <tr>\n",
       "      <th>mean</th>\n",
       "      <td>149999.500000</td>\n",
       "      <td>5.443590</td>\n",
       "      <td>18.029994</td>\n",
       "      <td>81.411107</td>\n",
       "    </tr>\n",
       "    <tr>\n",
       "      <th>std</th>\n",
       "      <td>86602.684716</td>\n",
       "      <td>2.890766</td>\n",
       "      <td>6.966914</td>\n",
       "      <td>39.039340</td>\n",
       "    </tr>\n",
       "    <tr>\n",
       "      <th>min</th>\n",
       "      <td>0.000000</td>\n",
       "      <td>1.000000</td>\n",
       "      <td>5.000000</td>\n",
       "      <td>15.000000</td>\n",
       "    </tr>\n",
       "    <tr>\n",
       "      <th>25%</th>\n",
       "      <td>74999.750000</td>\n",
       "      <td>3.000000</td>\n",
       "      <td>12.097867</td>\n",
       "      <td>47.384620</td>\n",
       "    </tr>\n",
       "    <tr>\n",
       "      <th>50%</th>\n",
       "      <td>149999.500000</td>\n",
       "      <td>5.000000</td>\n",
       "      <td>18.068614</td>\n",
       "      <td>80.956120</td>\n",
       "    </tr>\n",
       "    <tr>\n",
       "      <th>75%</th>\n",
       "      <td>224999.250000</td>\n",
       "      <td>8.000000</td>\n",
       "      <td>24.002375</td>\n",
       "      <td>115.018160</td>\n",
       "    </tr>\n",
       "    <tr>\n",
       "      <th>max</th>\n",
       "      <td>299999.000000</td>\n",
       "      <td>10.000000</td>\n",
       "      <td>30.000000</td>\n",
       "      <td>150.000000</td>\n",
       "    </tr>\n",
       "  </tbody>\n",
       "</table>\n",
       "</div>"
      ],
      "text/plain": [
       "                  id   Compartments  Weight Capacity (kg)          Price\n",
       "count  300000.000000  300000.000000         299862.000000  300000.000000\n",
       "mean   149999.500000       5.443590             18.029994      81.411107\n",
       "std     86602.684716       2.890766              6.966914      39.039340\n",
       "min         0.000000       1.000000              5.000000      15.000000\n",
       "25%     74999.750000       3.000000             12.097867      47.384620\n",
       "50%    149999.500000       5.000000             18.068614      80.956120\n",
       "75%    224999.250000       8.000000             24.002375     115.018160\n",
       "max    299999.000000      10.000000             30.000000     150.000000"
      ]
     },
     "execution_count": 7,
     "metadata": {},
     "output_type": "execute_result"
    }
   ],
   "source": [
    "train.describe()"
   ]
  },
  {
   "cell_type": "code",
   "execution_count": 8,
   "id": "1df61ca8",
   "metadata": {
    "execution": {
     "iopub.execute_input": "2025-02-28T21:50:06.738938Z",
     "iopub.status.busy": "2025-02-28T21:50:06.738717Z",
     "iopub.status.idle": "2025-02-28T21:50:07.272878Z",
     "shell.execute_reply": "2025-02-28T21:50:07.272041Z"
    },
    "papermill": {
     "duration": 0.546294,
     "end_time": "2025-02-28T21:50:07.274379",
     "exception": false,
     "start_time": "2025-02-28T21:50:06.728085",
     "status": "completed"
    },
    "tags": []
   },
   "outputs": [
    {
     "data": {
      "text/html": [
       "<div>\n",
       "<style scoped>\n",
       "    .dataframe tbody tr th:only-of-type {\n",
       "        vertical-align: middle;\n",
       "    }\n",
       "\n",
       "    .dataframe tbody tr th {\n",
       "        vertical-align: top;\n",
       "    }\n",
       "\n",
       "    .dataframe thead th {\n",
       "        text-align: right;\n",
       "    }\n",
       "</style>\n",
       "<table border=\"1\" class=\"dataframe\">\n",
       "  <thead>\n",
       "    <tr style=\"text-align: right;\">\n",
       "      <th></th>\n",
       "      <th>id</th>\n",
       "      <th>Compartments</th>\n",
       "      <th>Weight Capacity (kg)</th>\n",
       "      <th>Price</th>\n",
       "    </tr>\n",
       "  </thead>\n",
       "  <tbody>\n",
       "    <tr>\n",
       "      <th>count</th>\n",
       "      <td>3.694318e+06</td>\n",
       "      <td>3.694318e+06</td>\n",
       "      <td>3.692648e+06</td>\n",
       "      <td>3.694318e+06</td>\n",
       "    </tr>\n",
       "    <tr>\n",
       "      <th>mean</th>\n",
       "      <td>2.347158e+06</td>\n",
       "      <td>5.434022e+00</td>\n",
       "      <td>1.800883e+01</td>\n",
       "      <td>8.135820e+01</td>\n",
       "    </tr>\n",
       "    <tr>\n",
       "      <th>std</th>\n",
       "      <td>1.066458e+06</td>\n",
       "      <td>2.893227e+00</td>\n",
       "      <td>6.974541e+00</td>\n",
       "      <td>3.893050e+01</td>\n",
       "    </tr>\n",
       "    <tr>\n",
       "      <th>min</th>\n",
       "      <td>5.000000e+05</td>\n",
       "      <td>1.000000e+00</td>\n",
       "      <td>5.000000e+00</td>\n",
       "      <td>1.500000e+01</td>\n",
       "    </tr>\n",
       "    <tr>\n",
       "      <th>25%</th>\n",
       "      <td>1.423579e+06</td>\n",
       "      <td>3.000000e+00</td>\n",
       "      <td>1.206854e+01</td>\n",
       "      <td>4.747778e+01</td>\n",
       "    </tr>\n",
       "    <tr>\n",
       "      <th>50%</th>\n",
       "      <td>2.347158e+06</td>\n",
       "      <td>5.000000e+00</td>\n",
       "      <td>1.805243e+01</td>\n",
       "      <td>8.098592e+01</td>\n",
       "    </tr>\n",
       "    <tr>\n",
       "      <th>75%</th>\n",
       "      <td>3.270738e+06</td>\n",
       "      <td>8.000000e+00</td>\n",
       "      <td>2.398580e+01</td>\n",
       "      <td>1.148434e+02</td>\n",
       "    </tr>\n",
       "    <tr>\n",
       "      <th>max</th>\n",
       "      <td>4.194317e+06</td>\n",
       "      <td>1.000000e+01</td>\n",
       "      <td>3.000000e+01</td>\n",
       "      <td>1.500000e+02</td>\n",
       "    </tr>\n",
       "  </tbody>\n",
       "</table>\n",
       "</div>"
      ],
      "text/plain": [
       "                 id  Compartments  Weight Capacity (kg)         Price\n",
       "count  3.694318e+06  3.694318e+06          3.692648e+06  3.694318e+06\n",
       "mean   2.347158e+06  5.434022e+00          1.800883e+01  8.135820e+01\n",
       "std    1.066458e+06  2.893227e+00          6.974541e+00  3.893050e+01\n",
       "min    5.000000e+05  1.000000e+00          5.000000e+00  1.500000e+01\n",
       "25%    1.423579e+06  3.000000e+00          1.206854e+01  4.747778e+01\n",
       "50%    2.347158e+06  5.000000e+00          1.805243e+01  8.098592e+01\n",
       "75%    3.270738e+06  8.000000e+00          2.398580e+01  1.148434e+02\n",
       "max    4.194317e+06  1.000000e+01          3.000000e+01  1.500000e+02"
      ]
     },
     "execution_count": 8,
     "metadata": {},
     "output_type": "execute_result"
    }
   ],
   "source": [
    "train_extra.describe()"
   ]
  },
  {
   "cell_type": "code",
   "execution_count": 9,
   "id": "7cccd03d",
   "metadata": {
    "execution": {
     "iopub.execute_input": "2025-02-28T21:50:07.296061Z",
     "iopub.status.busy": "2025-02-28T21:50:07.295840Z",
     "iopub.status.idle": "2025-02-28T21:50:07.325640Z",
     "shell.execute_reply": "2025-02-28T21:50:07.324928Z"
    },
    "papermill": {
     "duration": 0.041753,
     "end_time": "2025-02-28T21:50:07.326860",
     "exception": false,
     "start_time": "2025-02-28T21:50:07.285107",
     "status": "completed"
    },
    "tags": []
   },
   "outputs": [
    {
     "data": {
      "text/html": [
       "<div>\n",
       "<style scoped>\n",
       "    .dataframe tbody tr th:only-of-type {\n",
       "        vertical-align: middle;\n",
       "    }\n",
       "\n",
       "    .dataframe tbody tr th {\n",
       "        vertical-align: top;\n",
       "    }\n",
       "\n",
       "    .dataframe thead th {\n",
       "        text-align: right;\n",
       "    }\n",
       "</style>\n",
       "<table border=\"1\" class=\"dataframe\">\n",
       "  <thead>\n",
       "    <tr style=\"text-align: right;\">\n",
       "      <th></th>\n",
       "      <th>id</th>\n",
       "      <th>Compartments</th>\n",
       "      <th>Weight Capacity (kg)</th>\n",
       "    </tr>\n",
       "  </thead>\n",
       "  <tbody>\n",
       "    <tr>\n",
       "      <th>count</th>\n",
       "      <td>200000.000000</td>\n",
       "      <td>200000.000000</td>\n",
       "      <td>199923.000000</td>\n",
       "    </tr>\n",
       "    <tr>\n",
       "      <th>mean</th>\n",
       "      <td>399999.500000</td>\n",
       "      <td>5.442855</td>\n",
       "      <td>17.993033</td>\n",
       "    </tr>\n",
       "    <tr>\n",
       "      <th>std</th>\n",
       "      <td>57735.171256</td>\n",
       "      <td>2.888740</td>\n",
       "      <td>6.972079</td>\n",
       "    </tr>\n",
       "    <tr>\n",
       "      <th>min</th>\n",
       "      <td>300000.000000</td>\n",
       "      <td>1.000000</td>\n",
       "      <td>5.000000</td>\n",
       "    </tr>\n",
       "    <tr>\n",
       "      <th>25%</th>\n",
       "      <td>349999.750000</td>\n",
       "      <td>3.000000</td>\n",
       "      <td>12.068875</td>\n",
       "    </tr>\n",
       "    <tr>\n",
       "      <th>50%</th>\n",
       "      <td>399999.500000</td>\n",
       "      <td>5.000000</td>\n",
       "      <td>18.054750</td>\n",
       "    </tr>\n",
       "    <tr>\n",
       "      <th>75%</th>\n",
       "      <td>449999.250000</td>\n",
       "      <td>8.000000</td>\n",
       "      <td>23.965700</td>\n",
       "    </tr>\n",
       "    <tr>\n",
       "      <th>max</th>\n",
       "      <td>499999.000000</td>\n",
       "      <td>10.000000</td>\n",
       "      <td>30.000000</td>\n",
       "    </tr>\n",
       "  </tbody>\n",
       "</table>\n",
       "</div>"
      ],
      "text/plain": [
       "                  id   Compartments  Weight Capacity (kg)\n",
       "count  200000.000000  200000.000000         199923.000000\n",
       "mean   399999.500000       5.442855             17.993033\n",
       "std     57735.171256       2.888740              6.972079\n",
       "min    300000.000000       1.000000              5.000000\n",
       "25%    349999.750000       3.000000             12.068875\n",
       "50%    399999.500000       5.000000             18.054750\n",
       "75%    449999.250000       8.000000             23.965700\n",
       "max    499999.000000      10.000000             30.000000"
      ]
     },
     "execution_count": 9,
     "metadata": {},
     "output_type": "execute_result"
    }
   ],
   "source": [
    "test.describe()"
   ]
  },
  {
   "cell_type": "code",
   "execution_count": 10,
   "id": "899b1b0f",
   "metadata": {
    "execution": {
     "iopub.execute_input": "2025-02-28T21:50:07.348133Z",
     "iopub.status.busy": "2025-02-28T21:50:07.347920Z",
     "iopub.status.idle": "2025-02-28T21:50:07.352197Z",
     "shell.execute_reply": "2025-02-28T21:50:07.351343Z"
    },
    "papermill": {
     "duration": 0.016127,
     "end_time": "2025-02-28T21:50:07.353354",
     "exception": false,
     "start_time": "2025-02-28T21:50:07.337227",
     "status": "completed"
    },
    "tags": []
   },
   "outputs": [
    {
     "data": {
      "text/plain": [
       "(300000, 11)"
      ]
     },
     "execution_count": 10,
     "metadata": {},
     "output_type": "execute_result"
    }
   ],
   "source": [
    "train.shape"
   ]
  },
  {
   "cell_type": "code",
   "execution_count": 11,
   "id": "e131edd6",
   "metadata": {
    "execution": {
     "iopub.execute_input": "2025-02-28T21:50:07.375083Z",
     "iopub.status.busy": "2025-02-28T21:50:07.374878Z",
     "iopub.status.idle": "2025-02-28T21:50:07.378766Z",
     "shell.execute_reply": "2025-02-28T21:50:07.378141Z"
    },
    "papermill": {
     "duration": 0.016139,
     "end_time": "2025-02-28T21:50:07.379950",
     "exception": false,
     "start_time": "2025-02-28T21:50:07.363811",
     "status": "completed"
    },
    "tags": []
   },
   "outputs": [
    {
     "data": {
      "text/plain": [
       "(3694318, 11)"
      ]
     },
     "execution_count": 11,
     "metadata": {},
     "output_type": "execute_result"
    }
   ],
   "source": [
    "train_extra.shape"
   ]
  },
  {
   "cell_type": "code",
   "execution_count": 12,
   "id": "4d563b4c",
   "metadata": {
    "execution": {
     "iopub.execute_input": "2025-02-28T21:50:07.401403Z",
     "iopub.status.busy": "2025-02-28T21:50:07.401203Z",
     "iopub.status.idle": "2025-02-28T21:50:07.405251Z",
     "shell.execute_reply": "2025-02-28T21:50:07.404619Z"
    },
    "papermill": {
     "duration": 0.015991,
     "end_time": "2025-02-28T21:50:07.406457",
     "exception": false,
     "start_time": "2025-02-28T21:50:07.390466",
     "status": "completed"
    },
    "tags": []
   },
   "outputs": [
    {
     "data": {
      "text/plain": [
       "(200000, 10)"
      ]
     },
     "execution_count": 12,
     "metadata": {},
     "output_type": "execute_result"
    }
   ],
   "source": [
    "test.shape"
   ]
  },
  {
   "cell_type": "code",
   "execution_count": 13,
   "id": "47b26a56",
   "metadata": {
    "execution": {
     "iopub.execute_input": "2025-02-28T21:50:07.427954Z",
     "iopub.status.busy": "2025-02-28T21:50:07.427726Z",
     "iopub.status.idle": "2025-02-28T21:50:07.535321Z",
     "shell.execute_reply": "2025-02-28T21:50:07.534243Z"
    },
    "papermill": {
     "duration": 0.119673,
     "end_time": "2025-02-28T21:50:07.536659",
     "exception": false,
     "start_time": "2025-02-28T21:50:07.416986",
     "status": "completed"
    },
    "tags": []
   },
   "outputs": [
    {
     "name": "stdout",
     "output_type": "stream",
     "text": [
      "<class 'pandas.core.frame.DataFrame'>\n",
      "RangeIndex: 300000 entries, 0 to 299999\n",
      "Data columns (total 11 columns):\n",
      " #   Column                Non-Null Count   Dtype  \n",
      "---  ------                --------------   -----  \n",
      " 0   id                    300000 non-null  int64  \n",
      " 1   Brand                 290295 non-null  object \n",
      " 2   Material              291653 non-null  object \n",
      " 3   Size                  293405 non-null  object \n",
      " 4   Compartments          300000 non-null  float64\n",
      " 5   Laptop Compartment    292556 non-null  object \n",
      " 6   Waterproof            292950 non-null  object \n",
      " 7   Style                 292030 non-null  object \n",
      " 8   Color                 290050 non-null  object \n",
      " 9   Weight Capacity (kg)  299862 non-null  float64\n",
      " 10  Price                 300000 non-null  float64\n",
      "dtypes: float64(3), int64(1), object(7)\n",
      "memory usage: 25.2+ MB\n"
     ]
    }
   ],
   "source": [
    "train.info()"
   ]
  },
  {
   "cell_type": "code",
   "execution_count": 14,
   "id": "9118c08f",
   "metadata": {
    "execution": {
     "iopub.execute_input": "2025-02-28T21:50:07.558715Z",
     "iopub.status.busy": "2025-02-28T21:50:07.558502Z",
     "iopub.status.idle": "2025-02-28T21:50:07.565562Z",
     "shell.execute_reply": "2025-02-28T21:50:07.564596Z"
    },
    "papermill": {
     "duration": 0.019202,
     "end_time": "2025-02-28T21:50:07.566714",
     "exception": false,
     "start_time": "2025-02-28T21:50:07.547512",
     "status": "completed"
    },
    "tags": []
   },
   "outputs": [
    {
     "name": "stdout",
     "output_type": "stream",
     "text": [
      "<class 'pandas.core.frame.DataFrame'>\n",
      "RangeIndex: 3694318 entries, 0 to 3694317\n",
      "Data columns (total 11 columns):\n",
      " #   Column                Dtype  \n",
      "---  ------                -----  \n",
      " 0   id                    int64  \n",
      " 1   Brand                 object \n",
      " 2   Material              object \n",
      " 3   Size                  object \n",
      " 4   Compartments          float64\n",
      " 5   Laptop Compartment    object \n",
      " 6   Waterproof            object \n",
      " 7   Style                 object \n",
      " 8   Color                 object \n",
      " 9   Weight Capacity (kg)  float64\n",
      " 10  Price                 float64\n",
      "dtypes: float64(3), int64(1), object(7)\n",
      "memory usage: 310.0+ MB\n"
     ]
    }
   ],
   "source": [
    "train_extra.info()"
   ]
  },
  {
   "cell_type": "code",
   "execution_count": 15,
   "id": "877518ac",
   "metadata": {
    "execution": {
     "iopub.execute_input": "2025-02-28T21:50:07.588671Z",
     "iopub.status.busy": "2025-02-28T21:50:07.588450Z",
     "iopub.status.idle": "2025-02-28T21:50:11.464854Z",
     "shell.execute_reply": "2025-02-28T21:50:11.464142Z"
    },
    "papermill": {
     "duration": 3.888899,
     "end_time": "2025-02-28T21:50:11.466409",
     "exception": false,
     "start_time": "2025-02-28T21:50:07.577510",
     "status": "completed"
    },
    "tags": []
   },
   "outputs": [],
   "source": [
    "train.replace([np.inf, -np.inf], np.nan, inplace=True)\n",
    "train_extra.replace([np.inf, -np.inf], np.nan, inplace=True)"
   ]
  },
  {
   "cell_type": "code",
   "execution_count": 16,
   "id": "467978ea",
   "metadata": {
    "execution": {
     "iopub.execute_input": "2025-02-28T21:50:11.489342Z",
     "iopub.status.busy": "2025-02-28T21:50:11.489057Z",
     "iopub.status.idle": "2025-02-28T21:50:11.582419Z",
     "shell.execute_reply": "2025-02-28T21:50:11.581563Z"
    },
    "papermill": {
     "duration": 0.106377,
     "end_time": "2025-02-28T21:50:11.583910",
     "exception": false,
     "start_time": "2025-02-28T21:50:11.477533",
     "status": "completed"
    },
    "tags": []
   },
   "outputs": [
    {
     "data": {
      "text/plain": [
       "Color                   9950\n",
       "Brand                   9705\n",
       "Material                8347\n",
       "Style                   7970\n",
       "Laptop Compartment      7444\n",
       "Waterproof              7050\n",
       "Size                    6595\n",
       "Weight Capacity (kg)     138\n",
       "id                         0\n",
       "Compartments               0\n",
       "Price                      0\n",
       "dtype: int64"
      ]
     },
     "execution_count": 16,
     "metadata": {},
     "output_type": "execute_result"
    }
   ],
   "source": [
    "missing_train = train.isna().sum().sort_values(ascending=False)\n",
    "missing_train"
   ]
  },
  {
   "cell_type": "code",
   "execution_count": 17,
   "id": "cfb15c4b",
   "metadata": {
    "execution": {
     "iopub.execute_input": "2025-02-28T21:50:11.609344Z",
     "iopub.status.busy": "2025-02-28T21:50:11.609077Z",
     "iopub.status.idle": "2025-02-28T21:50:12.657457Z",
     "shell.execute_reply": "2025-02-28T21:50:12.656689Z"
    },
    "papermill": {
     "duration": 1.062638,
     "end_time": "2025-02-28T21:50:12.658876",
     "exception": false,
     "start_time": "2025-02-28T21:50:11.596238",
     "status": "completed"
    },
    "tags": []
   },
   "outputs": [
    {
     "data": {
      "text/plain": [
       "Color                   123667\n",
       "Brand                   117053\n",
       "Material                102615\n",
       "Style                    96210\n",
       "Laptop Compartment       91089\n",
       "Waterproof               87274\n",
       "Size                     81190\n",
       "Weight Capacity (kg)      1670\n",
       "id                           0\n",
       "Compartments                 0\n",
       "Price                        0\n",
       "dtype: int64"
      ]
     },
     "execution_count": 17,
     "metadata": {},
     "output_type": "execute_result"
    }
   ],
   "source": [
    "missing_train_extra = train_extra.isna().sum().sort_values(ascending=False)\n",
    "missing_train_extra"
   ]
  },
  {
   "cell_type": "code",
   "execution_count": 18,
   "id": "5158354b",
   "metadata": {
    "execution": {
     "iopub.execute_input": "2025-02-28T21:50:12.682028Z",
     "iopub.status.busy": "2025-02-28T21:50:12.681768Z",
     "iopub.status.idle": "2025-02-28T21:50:12.687518Z",
     "shell.execute_reply": "2025-02-28T21:50:12.686883Z"
    },
    "papermill": {
     "duration": 0.018223,
     "end_time": "2025-02-28T21:50:12.688702",
     "exception": false,
     "start_time": "2025-02-28T21:50:12.670479",
     "status": "completed"
    },
    "tags": []
   },
   "outputs": [
    {
     "data": {
      "text/plain": [
       "Color                   3.316667\n",
       "Brand                   3.235000\n",
       "Material                2.782333\n",
       "Style                   2.656667\n",
       "Laptop Compartment      2.481333\n",
       "Waterproof              2.350000\n",
       "Size                    2.198333\n",
       "Weight Capacity (kg)    0.046000\n",
       "id                      0.000000\n",
       "Compartments            0.000000\n",
       "Price                   0.000000\n",
       "dtype: float64"
      ]
     },
     "execution_count": 18,
     "metadata": {},
     "output_type": "execute_result"
    }
   ],
   "source": [
    "# % of nan\n",
    "missing_percent_train = missing_train/train.shape[0]*100\n",
    "missing_percent_train"
   ]
  },
  {
   "cell_type": "code",
   "execution_count": 19,
   "id": "a83d7248",
   "metadata": {
    "execution": {
     "iopub.execute_input": "2025-02-28T21:50:12.711030Z",
     "iopub.status.busy": "2025-02-28T21:50:12.710796Z",
     "iopub.status.idle": "2025-02-28T21:50:12.716320Z",
     "shell.execute_reply": "2025-02-28T21:50:12.715521Z"
    },
    "papermill": {
     "duration": 0.01789,
     "end_time": "2025-02-28T21:50:12.717491",
     "exception": false,
     "start_time": "2025-02-28T21:50:12.699601",
     "status": "completed"
    },
    "tags": []
   },
   "outputs": [
    {
     "data": {
      "text/plain": [
       "Color                   3.347492\n",
       "Brand                   3.168460\n",
       "Material                2.777644\n",
       "Style                   2.604270\n",
       "Laptop Compartment      2.465651\n",
       "Waterproof              2.362385\n",
       "Size                    2.197699\n",
       "Weight Capacity (kg)    0.045205\n",
       "id                      0.000000\n",
       "Compartments            0.000000\n",
       "Price                   0.000000\n",
       "dtype: float64"
      ]
     },
     "execution_count": 19,
     "metadata": {},
     "output_type": "execute_result"
    }
   ],
   "source": [
    "# % of nan\n",
    "missing_percent_train_extra = missing_train_extra/train_extra.shape[0]*100\n",
    "missing_percent_train_extra"
   ]
  },
  {
   "cell_type": "code",
   "execution_count": 20,
   "id": "4a8a95c8",
   "metadata": {
    "execution": {
     "iopub.execute_input": "2025-02-28T21:50:12.739980Z",
     "iopub.status.busy": "2025-02-28T21:50:12.739751Z",
     "iopub.status.idle": "2025-02-28T21:50:15.508223Z",
     "shell.execute_reply": "2025-02-28T21:50:15.507351Z"
    },
    "papermill": {
     "duration": 2.781206,
     "end_time": "2025-02-28T21:50:15.509717",
     "exception": false,
     "start_time": "2025-02-28T21:50:12.728511",
     "status": "completed"
    },
    "tags": []
   },
   "outputs": [
    {
     "data": {
      "image/png": "[encoded data removed]",
      "text/plain": [
       "<Figure size 640x480 with 1 Axes>"
      ]
     },
     "metadata": {},
     "output_type": "display_data"
    }
   ],
   "source": [
    "sns.heatmap(train.isna(), yticklabels=False, cbar=False)\n",
    "plt.title('Missing Values in Training Data')\n",
    "plt.tight_layout()\n",
    "plt.show()"
   ]
  },
  {
   "cell_type": "code",
   "execution_count": 21,
   "id": "7bfeec8f",
   "metadata": {
    "execution": {
     "iopub.execute_input": "2025-02-28T21:50:15.533974Z",
     "iopub.status.busy": "2025-02-28T21:50:15.533740Z",
     "iopub.status.idle": "2025-02-28T21:50:18.227820Z",
     "shell.execute_reply": "2025-02-28T21:50:18.226931Z"
    },
    "papermill": {
     "duration": 2.70723,
     "end_time": "2025-02-28T21:50:18.229012",
     "exception": false,
     "start_time": "2025-02-28T21:50:15.521782",
     "status": "completed"
    },
    "tags": []
   },
   "outputs": [
    {
     "data": {
      "image/png": "[encoded data removed]",
      "text/plain": [
       "<Figure size 640x480 with 1 Axes>"
      ]
     },
     "metadata": {},
     "output_type": "display_data"
    }
   ],
   "source": [
    "sns.heatmap(train.isna(), yticklabels=False, cbar=False)\n",
    "plt.title('Missing Values in Extra Training Data')\n",
    "plt.tight_layout()\n",
    "plt.show()"
   ]
  },
  {
   "cell_type": "code",
   "execution_count": 22,
   "id": "64e71767",
   "metadata": {
    "execution": {
     "iopub.execute_input": "2025-02-28T21:50:18.254233Z",
     "iopub.status.busy": "2025-02-28T21:50:18.253957Z",
     "iopub.status.idle": "2025-02-28T21:50:18.257181Z",
     "shell.execute_reply": "2025-02-28T21:50:18.256556Z"
    },
    "papermill": {
     "duration": 0.016939,
     "end_time": "2025-02-28T21:50:18.258263",
     "exception": false,
     "start_time": "2025-02-28T21:50:18.241324",
     "status": "completed"
    },
    "tags": []
   },
   "outputs": [],
   "source": [
    "target = 'Price'"
   ]
  },
  {
   "cell_type": "code",
   "execution_count": 23,
   "id": "6cf9bd3b",
   "metadata": {
    "execution": {
     "iopub.execute_input": "2025-02-28T21:50:18.283176Z",
     "iopub.status.busy": "2025-02-28T21:50:18.282907Z",
     "iopub.status.idle": "2025-02-28T21:50:18.444602Z",
     "shell.execute_reply": "2025-02-28T21:50:18.443511Z"
    },
    "papermill": {
     "duration": 0.175517,
     "end_time": "2025-02-28T21:50:18.446000",
     "exception": false,
     "start_time": "2025-02-28T21:50:18.270483",
     "status": "completed"
    },
    "tags": []
   },
   "outputs": [
    {
     "name": "stdout",
     "output_type": "stream",
     "text": [
      "id                      0\n",
      "Brand                   0\n",
      "Material                0\n",
      "Size                    0\n",
      "Compartments            0\n",
      "Laptop Compartment      0\n",
      "Waterproof              0\n",
      "Style                   0\n",
      "Color                   0\n",
      "Weight Capacity (kg)    0\n",
      "Price                   0\n",
      "dtype: int64\n"
     ]
    }
   ],
   "source": [
    "ds = train.isin([np.inf, -np.inf]).sum()\n",
    "print(ds) "
   ]
  },
  {
   "cell_type": "code",
   "execution_count": 24,
   "id": "8a4ec880",
   "metadata": {
    "execution": {
     "iopub.execute_input": "2025-02-28T21:50:18.471261Z",
     "iopub.status.busy": "2025-02-28T21:50:18.470971Z",
     "iopub.status.idle": "2025-02-28T21:50:19.585304Z",
     "shell.execute_reply": "2025-02-28T21:50:19.584491Z"
    },
    "papermill": {
     "duration": 1.128155,
     "end_time": "2025-02-28T21:50:19.586568",
     "exception": false,
     "start_time": "2025-02-28T21:50:18.458413",
     "status": "completed"
    },
    "tags": []
   },
   "outputs": [
    {
     "name": "stdout",
     "output_type": "stream",
     "text": [
      "Skewness: 0.036882755131099065\n"
     ]
    },
    {
     "data": {
      "image/png": "[encoded data removed]",
      "text/plain": [
       "<Figure size 640x480 with 1 Axes>"
      ]
     },
     "metadata": {},
     "output_type": "display_data"
    }
   ],
   "source": [
    "sns.histplot(x= target, data=train, kde=True)\n",
    "plt.title('Distribution of Targe on Train')\n",
    "print(f'Skewness: {train[target].skew()}')\n",
    "plt.show()"
   ]
  },
  {
   "cell_type": "code",
   "execution_count": 25,
   "id": "bf702a9c",
   "metadata": {
    "execution": {
     "iopub.execute_input": "2025-02-28T21:50:19.613114Z",
     "iopub.status.busy": "2025-02-28T21:50:19.612848Z",
     "iopub.status.idle": "2025-02-28T21:50:32.470290Z",
     "shell.execute_reply": "2025-02-28T21:50:32.469383Z"
    },
    "papermill": {
     "duration": 12.872036,
     "end_time": "2025-02-28T21:50:32.471600",
     "exception": false,
     "start_time": "2025-02-28T21:50:19.599564",
     "status": "completed"
    },
    "tags": []
   },
   "outputs": [
    {
     "name": "stdout",
     "output_type": "stream",
     "text": [
      "Skewness: 0.0369621956010868\n"
     ]
    },
    {
     "data": {
      "image/png": "[encoded data removed]",
      "text/plain": [
       "<Figure size 640x480 with 1 Axes>"
      ]
     },
     "metadata": {},
     "output_type": "display_data"
    }
   ],
   "source": [
    "sns.histplot(x= target, data=train_extra, kde=True)\n",
    "plt.title('Distribution of Targe on Extra Train')\n",
    "print(f'Skewness: {train_extra[target].skew()}')\n",
    "plt.show()"
   ]
  },
  {
   "cell_type": "code",
   "execution_count": 26,
   "id": "e1ce3e97",
   "metadata": {
    "execution": {
     "iopub.execute_input": "2025-02-28T21:50:32.499182Z",
     "iopub.status.busy": "2025-02-28T21:50:32.498939Z",
     "iopub.status.idle": "2025-02-28T21:50:32.772351Z",
     "shell.execute_reply": "2025-02-28T21:50:32.771612Z"
    },
    "papermill": {
     "duration": 0.288549,
     "end_time": "2025-02-28T21:50:32.773825",
     "exception": false,
     "start_time": "2025-02-28T21:50:32.485276",
     "status": "completed"
    },
    "tags": []
   },
   "outputs": [],
   "source": [
    "train_full=pd.concat([train, train_extra], axis=0, ignore_index=True)"
   ]
  },
  {
   "cell_type": "code",
   "execution_count": 27,
   "id": "e7a45550",
   "metadata": {
    "execution": {
     "iopub.execute_input": "2025-02-28T21:50:32.801253Z",
     "iopub.status.busy": "2025-02-28T21:50:32.801007Z",
     "iopub.status.idle": "2025-02-28T21:50:46.750957Z",
     "shell.execute_reply": "2025-02-28T21:50:46.750082Z"
    },
    "papermill": {
     "duration": 13.964939,
     "end_time": "2025-02-28T21:50:46.752406",
     "exception": false,
     "start_time": "2025-02-28T21:50:32.787467",
     "status": "completed"
    },
    "tags": []
   },
   "outputs": [
    {
     "name": "stdout",
     "output_type": "stream",
     "text": [
      "Skewness: 0.0369621956010868\n"
     ]
    },
    {
     "data": {
      "image/png": "[encoded data removed]",
      "text/plain": [
       "<Figure size 640x480 with 1 Axes>"
      ]
     },
     "metadata": {},
     "output_type": "display_data"
    }
   ],
   "source": [
    "sns.histplot(x= target, data=train_full, kde=True)\n",
    "plt.title('Distribution of Targe on Full Train')\n",
    "print(f'Skewness: {train_extra[target].skew()}')\n",
    "plt.show()"
   ]
  },
  {
   "cell_type": "code",
   "execution_count": 28,
   "id": "e2f3eccd",
   "metadata": {
    "execution": {
     "iopub.execute_input": "2025-02-28T21:50:46.781849Z",
     "iopub.status.busy": "2025-02-28T21:50:46.781596Z",
     "iopub.status.idle": "2025-02-28T21:50:47.728939Z",
     "shell.execute_reply": "2025-02-28T21:50:47.728214Z"
    },
    "papermill": {
     "duration": 0.963409,
     "end_time": "2025-02-28T21:50:47.730403",
     "exception": false,
     "start_time": "2025-02-28T21:50:46.766994",
     "status": "completed"
    },
    "tags": []
   },
   "outputs": [
    {
     "data": {
      "text/plain": [
       "['Brand',\n",
       " 'Material',\n",
       " 'Size',\n",
       " 'Laptop Compartment',\n",
       " 'Waterproof',\n",
       " 'Style',\n",
       " 'Color']"
      ]
     },
     "execution_count": 28,
     "metadata": {},
     "output_type": "execute_result"
    }
   ],
   "source": [
    "categorical_cols = train_full.select_dtypes(include=['object']).columns.tolist()\n",
    "categorical_cols"
   ]
  },
  {
   "cell_type": "code",
   "execution_count": 29,
   "id": "fdb70458",
   "metadata": {
    "execution": {
     "iopub.execute_input": "2025-02-28T21:50:47.797889Z",
     "iopub.status.busy": "2025-02-28T21:50:47.797572Z",
     "iopub.status.idle": "2025-02-28T21:50:50.619790Z",
     "shell.execute_reply": "2025-02-28T21:50:50.618933Z"
    },
    "papermill": {
     "duration": 2.87645,
     "end_time": "2025-02-28T21:50:50.621232",
     "exception": false,
     "start_time": "2025-02-28T21:50:47.744782",
     "status": "completed"
    },
    "tags": []
   },
   "outputs": [
    {
     "data": {
      "image/png": "[encoded data removed]",
      "text/plain": [
       "<Figure size 640x480 with 1 Axes>"
      ]
     },
     "metadata": {},
     "output_type": "display_data"
    },
    {
     "name": "stdout",
     "output_type": "stream",
     "text": [
      "Brand has 5 unique values\n"
     ]
    },
    {
     "data": {
      "image/png": "[encoded data removed]",
      "text/plain": [
       "<Figure size 640x480 with 1 Axes>"
      ]
     },
     "metadata": {},
     "output_type": "display_data"
    },
    {
     "name": "stdout",
     "output_type": "stream",
     "text": [
      "Material has 4 unique values\n"
     ]
    },
    {
     "data": {
      "image/png": "[encoded data removed]",
      "text/plain": [
       "<Figure size 640x480 with 1 Axes>"
      ]
     },
     "metadata": {},
     "output_type": "display_data"
    },
    {
     "name": "stdout",
     "output_type": "stream",
     "text": [
      "Size has 3 unique values\n"
     ]
    },
    {
     "data": {
      "image/png": "[encoded data removed]",
      "text/plain": [
       "<Figure size 640x480 with 1 Axes>"
      ]
     },
     "metadata": {},
     "output_type": "display_data"
    },
    {
     "name": "stdout",
     "output_type": "stream",
     "text": [
      "Laptop Compartment has 2 unique values\n"
     ]
    },
    {
     "data": {
      "image/png": "[encoded data removed]",
      "text/plain": [
       "<Figure size 640x480 with 1 Axes>"
      ]
     },
     "metadata": {},
     "output_type": "display_data"
    },
    {
     "name": "stdout",
     "output_type": "stream",
     "text": [
      "Waterproof has 2 unique values\n"
     ]
    },
    {
     "data": {
      "image/png": "[encoded data removed]",
      "text/plain": [
       "<Figure size 640x480 with 1 Axes>"
      ]
     },
     "metadata": {},
     "output_type": "display_data"
    },
    {
     "name": "stdout",
     "output_type": "stream",
     "text": [
      "Style has 3 unique values\n"
     ]
    },
    {
     "data": {
      "image/png": "[encoded data removed]",
      "text/plain": [
       "<Figure size 640x480 with 1 Axes>"
      ]
     },
     "metadata": {},
     "output_type": "display_data"
    },
    {
     "name": "stdout",
     "output_type": "stream",
     "text": [
      "Color has 6 unique values\n"
     ]
    }
   ],
   "source": [
    "for col in categorical_cols:\n",
    "    value_counts = train_full[col].value_counts()\n",
    "    plt.title(f'Categories in {col}')\n",
    "    value_counts.plot(kind='bar')\n",
    "    plt.tight_layout()\n",
    "    plt.show()\n",
    "    \n",
    "    print(f\"{col} has {len(value_counts)} unique values\")"
   ]
  },
  {
   "cell_type": "code",
   "execution_count": 30,
   "id": "377cd781",
   "metadata": {
    "execution": {
     "iopub.execute_input": "2025-02-28T21:50:50.657195Z",
     "iopub.status.busy": "2025-02-28T21:50:50.656907Z",
     "iopub.status.idle": "2025-02-28T21:50:50.734969Z",
     "shell.execute_reply": "2025-02-28T21:50:50.734126Z"
    },
    "papermill": {
     "duration": 0.096654,
     "end_time": "2025-02-28T21:50:50.736362",
     "exception": false,
     "start_time": "2025-02-28T21:50:50.639708",
     "status": "completed"
    },
    "tags": []
   },
   "outputs": [
    {
     "data": {
      "text/plain": [
       "['Compartments', 'Weight Capacity (kg)', 'Price']"
      ]
     },
     "execution_count": 30,
     "metadata": {},
     "output_type": "execute_result"
    }
   ],
   "source": [
    "# Identify numerical columns\n",
    "numerical_cols = train_full.select_dtypes(include=['float64']).columns.tolist()\n",
    "numerical_cols"
   ]
  },
  {
   "cell_type": "code",
   "execution_count": 31,
   "id": "ed65807e",
   "metadata": {
    "execution": {
     "iopub.execute_input": "2025-02-28T21:50:50.771410Z",
     "iopub.status.busy": "2025-02-28T21:50:50.771134Z",
     "iopub.status.idle": "2025-02-28T21:50:50.775617Z",
     "shell.execute_reply": "2025-02-28T21:50:50.774823Z"
    },
    "papermill": {
     "duration": 0.023136,
     "end_time": "2025-02-28T21:50:50.776871",
     "exception": false,
     "start_time": "2025-02-28T21:50:50.753735",
     "status": "completed"
    },
    "tags": []
   },
   "outputs": [
    {
     "data": {
      "text/plain": [
       "['Compartments', 'Weight Capacity (kg)']"
      ]
     },
     "execution_count": 31,
     "metadata": {},
     "output_type": "execute_result"
    }
   ],
   "source": [
    "numerical_cols.remove(target)\n",
    "numerical_cols"
   ]
  },
  {
   "cell_type": "code",
   "execution_count": 32,
   "id": "a24340b4",
   "metadata": {
    "execution": {
     "iopub.execute_input": "2025-02-28T21:50:50.811448Z",
     "iopub.status.busy": "2025-02-28T21:50:50.811225Z",
     "iopub.status.idle": "2025-02-28T21:51:22.271138Z",
     "shell.execute_reply": "2025-02-28T21:51:22.269982Z"
    },
    "papermill": {
     "duration": 31.478942,
     "end_time": "2025-02-28T21:51:22.272757",
     "exception": false,
     "start_time": "2025-02-28T21:50:50.793815",
     "status": "completed"
    },
    "tags": []
   },
   "outputs": [
    {
     "data": {
      "image/png": "[encoded data removed]",
      "text/plain": [
       "<Figure size 640x480 with 2 Axes>"
      ]
     },
     "metadata": {},
     "output_type": "display_data"
    },
    {
     "name": "stdout",
     "output_type": "stream",
     "text": [
      "Compartments statistics:\n",
      "  - Min: 1.0\n",
      "  - Max: 10.0\n",
      "  - Mean: 5.43\n",
      "  - Median: 5.00\n",
      "  - Std: 2.89\n",
      "  - Skewness: 0.03\n",
      "  - Kurtosis: -1.24\n",
      "\n"
     ]
    },
    {
     "data": {
      "image/png": "[encoded data removed]",
      "text/plain": [
       "<Figure size 640x480 with 2 Axes>"
      ]
     },
     "metadata": {},
     "output_type": "display_data"
    },
    {
     "name": "stdout",
     "output_type": "stream",
     "text": [
      "Weight Capacity (kg) statistics:\n",
      "  - Min: 5.0\n",
      "  - Max: 30.0\n",
      "  - Mean: 18.01\n",
      "  - Median: 18.05\n",
      "  - Std: 6.97\n",
      "  - Skewness: -0.06\n",
      "  - Kurtosis: -1.15\n",
      "\n"
     ]
    }
   ],
   "source": [
    "for col in numerical_cols:\n",
    "    # Histogram\n",
    "    plt.subplot(1, 2, 1)\n",
    "    sns.histplot(train_full[col], kde=True)\n",
    "    plt.title(f'Distribution of {col}')\n",
    "    \n",
    "    # Box plot\n",
    "    plt.subplot(1, 2, 2)\n",
    "    sns.boxplot(x=train_full[col])\n",
    "    plt.title(f'Boxplot of {col}')\n",
    "    \n",
    "    plt.tight_layout()\n",
    "    plt.show()\n",
    "    \n",
    "    # Print statistics\n",
    "    print(f\"{col} statistics:\")\n",
    "    print(f\"  - Min: {train_full[col].min()}\")\n",
    "    print(f\"  - Max: {train_full[col].max()}\")\n",
    "    print(f\"  - Mean: {train_full[col].mean():.2f}\")\n",
    "    print(f\"  - Median: {train_full[col].median():.2f}\")\n",
    "    print(f\"  - Std: {train_full[col].std():.2f}\")\n",
    "    print(f\"  - Skewness: {train_full[col].skew():.2f}\")\n",
    "    print(f\"  - Kurtosis: {train_full[col].kurt():.2f}\\n\")"
   ]
  },
  {
   "cell_type": "code",
   "execution_count": 33,
   "id": "b10ff0ab",
   "metadata": {
    "execution": {
     "iopub.execute_input": "2025-02-28T21:51:22.311928Z",
     "iopub.status.busy": "2025-02-28T21:51:22.311651Z",
     "iopub.status.idle": "2025-02-28T21:51:25.288688Z",
     "shell.execute_reply": "2025-02-28T21:51:25.287728Z"
    },
    "papermill": {
     "duration": 2.997787,
     "end_time": "2025-02-28T21:51:25.290405",
     "exception": false,
     "start_time": "2025-02-28T21:51:22.292618",
     "status": "completed"
    },
    "tags": []
   },
   "outputs": [],
   "source": [
    "for col in train_full.columns:\n",
    "    if train_full[col].dtype == 'object':\n",
    "        train_full[col].fillna(train_full[col].mode()[0], inplace=True)\n",
    "    else:\n",
    "        train_full[col].fillna(train_full[col].mean(), inplace=True)"
   ]
  },
  {
   "cell_type": "code",
   "execution_count": 34,
   "id": "2a865d9a",
   "metadata": {
    "execution": {
     "iopub.execute_input": "2025-02-28T21:51:25.330675Z",
     "iopub.status.busy": "2025-02-28T21:51:25.330397Z",
     "iopub.status.idle": "2025-02-28T21:51:28.090050Z",
     "shell.execute_reply": "2025-02-28T21:51:28.089120Z"
    },
    "papermill": {
     "duration": 2.781944,
     "end_time": "2025-02-28T21:51:28.091588",
     "exception": false,
     "start_time": "2025-02-28T21:51:25.309644",
     "status": "completed"
    },
    "tags": []
   },
   "outputs": [
    {
     "data": {
      "text/html": [
       "<div>\n",
       "<style scoped>\n",
       "    .dataframe tbody tr th:only-of-type {\n",
       "        vertical-align: middle;\n",
       "    }\n",
       "\n",
       "    .dataframe tbody tr th {\n",
       "        vertical-align: top;\n",
       "    }\n",
       "\n",
       "    .dataframe thead th {\n",
       "        text-align: right;\n",
       "    }\n",
       "</style>\n",
       "<table border=\"1\" class=\"dataframe\">\n",
       "  <thead>\n",
       "    <tr style=\"text-align: right;\">\n",
       "      <th></th>\n",
       "      <th>id</th>\n",
       "      <th>Compartments</th>\n",
       "      <th>Weight Capacity (kg)</th>\n",
       "      <th>Price</th>\n",
       "      <th>Brand_Jansport</th>\n",
       "      <th>Brand_Nike</th>\n",
       "      <th>Brand_Puma</th>\n",
       "      <th>Brand_Under Armour</th>\n",
       "      <th>Material_Leather</th>\n",
       "      <th>Material_Nylon</th>\n",
       "      <th>...</th>\n",
       "      <th>Size_Small</th>\n",
       "      <th>Laptop Compartment_Yes</th>\n",
       "      <th>Waterproof_Yes</th>\n",
       "      <th>Style_Messenger</th>\n",
       "      <th>Style_Tote</th>\n",
       "      <th>Color_Blue</th>\n",
       "      <th>Color_Gray</th>\n",
       "      <th>Color_Green</th>\n",
       "      <th>Color_Pink</th>\n",
       "      <th>Color_Red</th>\n",
       "    </tr>\n",
       "  </thead>\n",
       "  <tbody>\n",
       "    <tr>\n",
       "      <th>0</th>\n",
       "      <td>0</td>\n",
       "      <td>7.0</td>\n",
       "      <td>11.611723</td>\n",
       "      <td>112.15875</td>\n",
       "      <td>True</td>\n",
       "      <td>False</td>\n",
       "      <td>False</td>\n",
       "      <td>False</td>\n",
       "      <td>True</td>\n",
       "      <td>False</td>\n",
       "      <td>...</td>\n",
       "      <td>False</td>\n",
       "      <td>True</td>\n",
       "      <td>False</td>\n",
       "      <td>False</td>\n",
       "      <td>True</td>\n",
       "      <td>False</td>\n",
       "      <td>False</td>\n",
       "      <td>False</td>\n",
       "      <td>False</td>\n",
       "      <td>False</td>\n",
       "    </tr>\n",
       "    <tr>\n",
       "      <th>1</th>\n",
       "      <td>1</td>\n",
       "      <td>10.0</td>\n",
       "      <td>27.078537</td>\n",
       "      <td>68.88056</td>\n",
       "      <td>True</td>\n",
       "      <td>False</td>\n",
       "      <td>False</td>\n",
       "      <td>False</td>\n",
       "      <td>False</td>\n",
       "      <td>False</td>\n",
       "      <td>...</td>\n",
       "      <td>True</td>\n",
       "      <td>True</td>\n",
       "      <td>True</td>\n",
       "      <td>True</td>\n",
       "      <td>False</td>\n",
       "      <td>False</td>\n",
       "      <td>False</td>\n",
       "      <td>True</td>\n",
       "      <td>False</td>\n",
       "      <td>False</td>\n",
       "    </tr>\n",
       "    <tr>\n",
       "      <th>2</th>\n",
       "      <td>2</td>\n",
       "      <td>2.0</td>\n",
       "      <td>16.643760</td>\n",
       "      <td>39.17320</td>\n",
       "      <td>False</td>\n",
       "      <td>False</td>\n",
       "      <td>False</td>\n",
       "      <td>True</td>\n",
       "      <td>True</td>\n",
       "      <td>False</td>\n",
       "      <td>...</td>\n",
       "      <td>True</td>\n",
       "      <td>True</td>\n",
       "      <td>False</td>\n",
       "      <td>True</td>\n",
       "      <td>False</td>\n",
       "      <td>False</td>\n",
       "      <td>False</td>\n",
       "      <td>False</td>\n",
       "      <td>False</td>\n",
       "      <td>True</td>\n",
       "    </tr>\n",
       "    <tr>\n",
       "      <th>3</th>\n",
       "      <td>3</td>\n",
       "      <td>8.0</td>\n",
       "      <td>12.937220</td>\n",
       "      <td>80.60793</td>\n",
       "      <td>False</td>\n",
       "      <td>True</td>\n",
       "      <td>False</td>\n",
       "      <td>False</td>\n",
       "      <td>False</td>\n",
       "      <td>True</td>\n",
       "      <td>...</td>\n",
       "      <td>True</td>\n",
       "      <td>True</td>\n",
       "      <td>False</td>\n",
       "      <td>True</td>\n",
       "      <td>False</td>\n",
       "      <td>False</td>\n",
       "      <td>False</td>\n",
       "      <td>True</td>\n",
       "      <td>False</td>\n",
       "      <td>False</td>\n",
       "    </tr>\n",
       "    <tr>\n",
       "      <th>4</th>\n",
       "      <td>4</td>\n",
       "      <td>1.0</td>\n",
       "      <td>17.749338</td>\n",
       "      <td>86.02312</td>\n",
       "      <td>False</td>\n",
       "      <td>False</td>\n",
       "      <td>False</td>\n",
       "      <td>False</td>\n",
       "      <td>False</td>\n",
       "      <td>False</td>\n",
       "      <td>...</td>\n",
       "      <td>False</td>\n",
       "      <td>True</td>\n",
       "      <td>True</td>\n",
       "      <td>True</td>\n",
       "      <td>False</td>\n",
       "      <td>False</td>\n",
       "      <td>False</td>\n",
       "      <td>True</td>\n",
       "      <td>False</td>\n",
       "      <td>False</td>\n",
       "    </tr>\n",
       "  </tbody>\n",
       "</table>\n",
       "<p>5 rows × 22 columns</p>\n",
       "</div>"
      ],
      "text/plain": [
       "   id  Compartments  Weight Capacity (kg)      Price  Brand_Jansport  \\\n",
       "0   0           7.0             11.611723  112.15875            True   \n",
       "1   1          10.0             27.078537   68.88056            True   \n",
       "2   2           2.0             16.643760   39.17320           False   \n",
       "3   3           8.0             12.937220   80.60793           False   \n",
       "4   4           1.0             17.749338   86.02312           False   \n",
       "\n",
       "   Brand_Nike  Brand_Puma  Brand_Under Armour  Material_Leather  \\\n",
       "0       False       False               False              True   \n",
       "1       False       False               False             False   \n",
       "2       False       False                True              True   \n",
       "3        True       False               False             False   \n",
       "4       False       False               False             False   \n",
       "\n",
       "   Material_Nylon  ...  Size_Small  Laptop Compartment_Yes  Waterproof_Yes  \\\n",
       "0           False  ...       False                    True           False   \n",
       "1           False  ...        True                    True            True   \n",
       "2           False  ...        True                    True           False   \n",
       "3            True  ...        True                    True           False   \n",
       "4           False  ...       False                    True            True   \n",
       "\n",
       "   Style_Messenger  Style_Tote  Color_Blue  Color_Gray  Color_Green  \\\n",
       "0            False        True       False       False        False   \n",
       "1             True       False       False       False         True   \n",
       "2             True       False       False       False        False   \n",
       "3             True       False       False       False         True   \n",
       "4             True       False       False       False         True   \n",
       "\n",
       "   Color_Pink  Color_Red  \n",
       "0       False      False  \n",
       "1       False      False  \n",
       "2       False       True  \n",
       "3       False      False  \n",
       "4       False      False  \n",
       "\n",
       "[5 rows x 22 columns]"
      ]
     },
     "execution_count": 34,
     "metadata": {},
     "output_type": "execute_result"
    }
   ],
   "source": [
    "train_encoded = pd.get_dummies(train_full, drop_first=True)\n",
    "train_encoded.head()"
   ]
  },
  {
   "cell_type": "code",
   "execution_count": 35,
   "id": "4a0ab109",
   "metadata": {
    "execution": {
     "iopub.execute_input": "2025-02-28T21:51:28.131295Z",
     "iopub.status.busy": "2025-02-28T21:51:28.131044Z",
     "iopub.status.idle": "2025-02-28T21:51:28.277887Z",
     "shell.execute_reply": "2025-02-28T21:51:28.277217Z"
    },
    "papermill": {
     "duration": 0.168285,
     "end_time": "2025-02-28T21:51:28.279394",
     "exception": false,
     "start_time": "2025-02-28T21:51:28.111109",
     "status": "completed"
    },
    "tags": []
   },
   "outputs": [],
   "source": [
    "for col in test.columns:\n",
    "    if test[col].dtype == 'object':\n",
    "        test[col].fillna(test[col].mode()[0], inplace=True)\n",
    "    else:\n",
    "        test[col].fillna(test[col].mean(), inplace=True)"
   ]
  },
  {
   "cell_type": "code",
   "execution_count": 36,
   "id": "1105bdcc",
   "metadata": {
    "execution": {
     "iopub.execute_input": "2025-02-28T21:51:28.318797Z",
     "iopub.status.busy": "2025-02-28T21:51:28.318546Z",
     "iopub.status.idle": "2025-02-28T21:51:28.425595Z",
     "shell.execute_reply": "2025-02-28T21:51:28.424799Z"
    },
    "papermill": {
     "duration": 0.128403,
     "end_time": "2025-02-28T21:51:28.427182",
     "exception": false,
     "start_time": "2025-02-28T21:51:28.298779",
     "status": "completed"
    },
    "tags": []
   },
   "outputs": [
    {
     "data": {
      "text/html": [
       "<div>\n",
       "<style scoped>\n",
       "    .dataframe tbody tr th:only-of-type {\n",
       "        vertical-align: middle;\n",
       "    }\n",
       "\n",
       "    .dataframe tbody tr th {\n",
       "        vertical-align: top;\n",
       "    }\n",
       "\n",
       "    .dataframe thead th {\n",
       "        text-align: right;\n",
       "    }\n",
       "</style>\n",
       "<table border=\"1\" class=\"dataframe\">\n",
       "  <thead>\n",
       "    <tr style=\"text-align: right;\">\n",
       "      <th></th>\n",
       "      <th>id</th>\n",
       "      <th>Compartments</th>\n",
       "      <th>Weight Capacity (kg)</th>\n",
       "      <th>Brand_Jansport</th>\n",
       "      <th>Brand_Nike</th>\n",
       "      <th>Brand_Puma</th>\n",
       "      <th>Brand_Under Armour</th>\n",
       "      <th>Material_Leather</th>\n",
       "      <th>Material_Nylon</th>\n",
       "      <th>Material_Polyester</th>\n",
       "      <th>...</th>\n",
       "      <th>Size_Small</th>\n",
       "      <th>Laptop Compartment_Yes</th>\n",
       "      <th>Waterproof_Yes</th>\n",
       "      <th>Style_Messenger</th>\n",
       "      <th>Style_Tote</th>\n",
       "      <th>Color_Blue</th>\n",
       "      <th>Color_Gray</th>\n",
       "      <th>Color_Green</th>\n",
       "      <th>Color_Pink</th>\n",
       "      <th>Color_Red</th>\n",
       "    </tr>\n",
       "  </thead>\n",
       "  <tbody>\n",
       "    <tr>\n",
       "      <th>0</th>\n",
       "      <td>300000</td>\n",
       "      <td>2.0</td>\n",
       "      <td>20.671147</td>\n",
       "      <td>False</td>\n",
       "      <td>False</td>\n",
       "      <td>True</td>\n",
       "      <td>False</td>\n",
       "      <td>True</td>\n",
       "      <td>False</td>\n",
       "      <td>False</td>\n",
       "      <td>...</td>\n",
       "      <td>True</td>\n",
       "      <td>False</td>\n",
       "      <td>False</td>\n",
       "      <td>False</td>\n",
       "      <td>True</td>\n",
       "      <td>False</td>\n",
       "      <td>False</td>\n",
       "      <td>True</td>\n",
       "      <td>False</td>\n",
       "      <td>False</td>\n",
       "    </tr>\n",
       "    <tr>\n",
       "      <th>1</th>\n",
       "      <td>300001</td>\n",
       "      <td>7.0</td>\n",
       "      <td>13.564105</td>\n",
       "      <td>False</td>\n",
       "      <td>True</td>\n",
       "      <td>False</td>\n",
       "      <td>False</td>\n",
       "      <td>False</td>\n",
       "      <td>False</td>\n",
       "      <td>False</td>\n",
       "      <td>...</td>\n",
       "      <td>False</td>\n",
       "      <td>False</td>\n",
       "      <td>True</td>\n",
       "      <td>False</td>\n",
       "      <td>False</td>\n",
       "      <td>False</td>\n",
       "      <td>False</td>\n",
       "      <td>True</td>\n",
       "      <td>False</td>\n",
       "      <td>False</td>\n",
       "    </tr>\n",
       "    <tr>\n",
       "      <th>2</th>\n",
       "      <td>300002</td>\n",
       "      <td>9.0</td>\n",
       "      <td>11.809799</td>\n",
       "      <td>False</td>\n",
       "      <td>False</td>\n",
       "      <td>False</td>\n",
       "      <td>False</td>\n",
       "      <td>False</td>\n",
       "      <td>False</td>\n",
       "      <td>False</td>\n",
       "      <td>...</td>\n",
       "      <td>False</td>\n",
       "      <td>False</td>\n",
       "      <td>True</td>\n",
       "      <td>True</td>\n",
       "      <td>False</td>\n",
       "      <td>True</td>\n",
       "      <td>False</td>\n",
       "      <td>False</td>\n",
       "      <td>False</td>\n",
       "      <td>False</td>\n",
       "    </tr>\n",
       "    <tr>\n",
       "      <th>3</th>\n",
       "      <td>300003</td>\n",
       "      <td>1.0</td>\n",
       "      <td>18.477036</td>\n",
       "      <td>False</td>\n",
       "      <td>False</td>\n",
       "      <td>False</td>\n",
       "      <td>False</td>\n",
       "      <td>False</td>\n",
       "      <td>True</td>\n",
       "      <td>False</td>\n",
       "      <td>...</td>\n",
       "      <td>False</td>\n",
       "      <td>True</td>\n",
       "      <td>False</td>\n",
       "      <td>True</td>\n",
       "      <td>False</td>\n",
       "      <td>False</td>\n",
       "      <td>False</td>\n",
       "      <td>True</td>\n",
       "      <td>False</td>\n",
       "      <td>False</td>\n",
       "    </tr>\n",
       "    <tr>\n",
       "      <th>4</th>\n",
       "      <td>300004</td>\n",
       "      <td>2.0</td>\n",
       "      <td>9.907953</td>\n",
       "      <td>False</td>\n",
       "      <td>False</td>\n",
       "      <td>False</td>\n",
       "      <td>False</td>\n",
       "      <td>False</td>\n",
       "      <td>True</td>\n",
       "      <td>False</td>\n",
       "      <td>...</td>\n",
       "      <td>False</td>\n",
       "      <td>True</td>\n",
       "      <td>True</td>\n",
       "      <td>False</td>\n",
       "      <td>True</td>\n",
       "      <td>False</td>\n",
       "      <td>False</td>\n",
       "      <td>False</td>\n",
       "      <td>False</td>\n",
       "      <td>False</td>\n",
       "    </tr>\n",
       "  </tbody>\n",
       "</table>\n",
       "<p>5 rows × 21 columns</p>\n",
       "</div>"
      ],
      "text/plain": [
       "       id  Compartments  Weight Capacity (kg)  Brand_Jansport  Brand_Nike  \\\n",
       "0  300000           2.0             20.671147           False       False   \n",
       "1  300001           7.0             13.564105           False        True   \n",
       "2  300002           9.0             11.809799           False       False   \n",
       "3  300003           1.0             18.477036           False       False   \n",
       "4  300004           2.0              9.907953           False       False   \n",
       "\n",
       "   Brand_Puma  Brand_Under Armour  Material_Leather  Material_Nylon  \\\n",
       "0        True               False              True           False   \n",
       "1       False               False             False           False   \n",
       "2       False               False             False           False   \n",
       "3       False               False             False            True   \n",
       "4       False               False             False            True   \n",
       "\n",
       "   Material_Polyester  ...  Size_Small  Laptop Compartment_Yes  \\\n",
       "0               False  ...        True                   False   \n",
       "1               False  ...       False                   False   \n",
       "2               False  ...       False                   False   \n",
       "3               False  ...       False                    True   \n",
       "4               False  ...       False                    True   \n",
       "\n",
       "   Waterproof_Yes  Style_Messenger  Style_Tote  Color_Blue  Color_Gray  \\\n",
       "0           False            False        True       False       False   \n",
       "1            True            False       False       False       False   \n",
       "2            True             True       False        True       False   \n",
       "3           False             True       False       False       False   \n",
       "4            True            False        True       False       False   \n",
       "\n",
       "   Color_Green  Color_Pink  Color_Red  \n",
       "0         True       False      False  \n",
       "1         True       False      False  \n",
       "2        False       False      False  \n",
       "3         True       False      False  \n",
       "4        False       False      False  \n",
       "\n",
       "[5 rows x 21 columns]"
      ]
     },
     "execution_count": 36,
     "metadata": {},
     "output_type": "execute_result"
    }
   ],
   "source": [
    "test_encoded = pd.get_dummies(test, drop_first=True)\n",
    "test_encoded.head()"
   ]
  },
  {
   "cell_type": "markdown",
   "id": "2f78fd4a",
   "metadata": {
    "papermill": {
     "duration": 0.019806,
     "end_time": "2025-02-28T21:51:28.466776",
     "exception": false,
     "start_time": "2025-02-28T21:51:28.446970",
     "status": "completed"
    },
    "tags": []
   },
   "source": [
    "# Mean for baseline"
   ]
  },
  {
   "cell_type": "code",
   "execution_count": 37,
   "id": "49b75b63",
   "metadata": {
    "execution": {
     "iopub.execute_input": "2025-02-28T21:51:28.505710Z",
     "iopub.status.busy": "2025-02-28T21:51:28.505441Z",
     "iopub.status.idle": "2025-02-28T21:51:28.525497Z",
     "shell.execute_reply": "2025-02-28T21:51:28.524812Z"
    },
    "papermill": {
     "duration": 0.041029,
     "end_time": "2025-02-28T21:51:28.526727",
     "exception": false,
     "start_time": "2025-02-28T21:51:28.485698",
     "status": "completed"
    },
    "tags": []
   },
   "outputs": [
    {
     "data": {
      "text/plain": [
       "81.362174592754"
      ]
     },
     "execution_count": 37,
     "metadata": {},
     "output_type": "execute_result"
    }
   ],
   "source": [
    "mean_price = train_full['Price'].mean()\n",
    "mean_price"
   ]
  },
  {
   "cell_type": "code",
   "execution_count": 38,
   "id": "5749580e",
   "metadata": {
    "execution": {
     "iopub.execute_input": "2025-02-28T21:51:28.565720Z",
     "iopub.status.busy": "2025-02-28T21:51:28.565486Z",
     "iopub.status.idle": "2025-02-28T21:51:28.573271Z",
     "shell.execute_reply": "2025-02-28T21:51:28.572633Z"
    },
    "papermill": {
     "duration": 0.028626,
     "end_time": "2025-02-28T21:51:28.574490",
     "exception": false,
     "start_time": "2025-02-28T21:51:28.545864",
     "status": "completed"
    },
    "tags": []
   },
   "outputs": [
    {
     "data": {
      "text/html": [
       "<div>\n",
       "<style scoped>\n",
       "    .dataframe tbody tr th:only-of-type {\n",
       "        vertical-align: middle;\n",
       "    }\n",
       "\n",
       "    .dataframe tbody tr th {\n",
       "        vertical-align: top;\n",
       "    }\n",
       "\n",
       "    .dataframe thead th {\n",
       "        text-align: right;\n",
       "    }\n",
       "</style>\n",
       "<table border=\"1\" class=\"dataframe\">\n",
       "  <thead>\n",
       "    <tr style=\"text-align: right;\">\n",
       "      <th></th>\n",
       "      <th>id</th>\n",
       "      <th>Price</th>\n",
       "    </tr>\n",
       "  </thead>\n",
       "  <tbody>\n",
       "    <tr>\n",
       "      <th>0</th>\n",
       "      <td>300000</td>\n",
       "      <td>81.362175</td>\n",
       "    </tr>\n",
       "    <tr>\n",
       "      <th>1</th>\n",
       "      <td>300001</td>\n",
       "      <td>81.362175</td>\n",
       "    </tr>\n",
       "    <tr>\n",
       "      <th>2</th>\n",
       "      <td>300002</td>\n",
       "      <td>81.362175</td>\n",
       "    </tr>\n",
       "    <tr>\n",
       "      <th>3</th>\n",
       "      <td>300003</td>\n",
       "      <td>81.362175</td>\n",
       "    </tr>\n",
       "    <tr>\n",
       "      <th>4</th>\n",
       "      <td>300004</td>\n",
       "      <td>81.362175</td>\n",
       "    </tr>\n",
       "    <tr>\n",
       "      <th>...</th>\n",
       "      <td>...</td>\n",
       "      <td>...</td>\n",
       "    </tr>\n",
       "    <tr>\n",
       "      <th>199995</th>\n",
       "      <td>499995</td>\n",
       "      <td>81.362175</td>\n",
       "    </tr>\n",
       "    <tr>\n",
       "      <th>199996</th>\n",
       "      <td>499996</td>\n",
       "      <td>81.362175</td>\n",
       "    </tr>\n",
       "    <tr>\n",
       "      <th>199997</th>\n",
       "      <td>499997</td>\n",
       "      <td>81.362175</td>\n",
       "    </tr>\n",
       "    <tr>\n",
       "      <th>199998</th>\n",
       "      <td>499998</td>\n",
       "      <td>81.362175</td>\n",
       "    </tr>\n",
       "    <tr>\n",
       "      <th>199999</th>\n",
       "      <td>499999</td>\n",
       "      <td>81.362175</td>\n",
       "    </tr>\n",
       "  </tbody>\n",
       "</table>\n",
       "<p>200000 rows × 2 columns</p>\n",
       "</div>"
      ],
      "text/plain": [
       "            id      Price\n",
       "0       300000  81.362175\n",
       "1       300001  81.362175\n",
       "2       300002  81.362175\n",
       "3       300003  81.362175\n",
       "4       300004  81.362175\n",
       "...        ...        ...\n",
       "199995  499995  81.362175\n",
       "199996  499996  81.362175\n",
       "199997  499997  81.362175\n",
       "199998  499998  81.362175\n",
       "199999  499999  81.362175\n",
       "\n",
       "[200000 rows x 2 columns]"
      ]
     },
     "execution_count": 38,
     "metadata": {},
     "output_type": "execute_result"
    }
   ],
   "source": [
    "submission['Price'] = mean_price\n",
    "submission"
   ]
  },
  {
   "cell_type": "code",
   "execution_count": 39,
   "id": "a47f5f56",
   "metadata": {
    "execution": {
     "iopub.execute_input": "2025-02-28T21:51:28.613278Z",
     "iopub.status.busy": "2025-02-28T21:51:28.613024Z",
     "iopub.status.idle": "2025-02-28T21:51:28.910619Z",
     "shell.execute_reply": "2025-02-28T21:51:28.909918Z"
    },
    "papermill": {
     "duration": 0.318737,
     "end_time": "2025-02-28T21:51:28.912128",
     "exception": false,
     "start_time": "2025-02-28T21:51:28.593391",
     "status": "completed"
    },
    "tags": []
   },
   "outputs": [],
   "source": [
    "submission.to_csv('submission.csv', index=False)"
   ]
  },
  {
   "cell_type": "markdown",
   "id": "2e2f280c",
   "metadata": {
    "papermill": {
     "duration": 0.019274,
     "end_time": "2025-02-28T21:51:28.951343",
     "exception": false,
     "start_time": "2025-02-28T21:51:28.932069",
     "status": "completed"
    },
    "tags": []
   },
   "source": [
    "# XGBoost"
   ]
  },
  {
   "cell_type": "code",
   "execution_count": 40,
   "id": "380668a4",
   "metadata": {
    "execution": {
     "iopub.execute_input": "2025-02-28T21:51:28.991305Z",
     "iopub.status.busy": "2025-02-28T21:51:28.991016Z",
     "iopub.status.idle": "2025-02-28T21:51:29.085994Z",
     "shell.execute_reply": "2025-02-28T21:51:29.085319Z"
    },
    "papermill": {
     "duration": 0.116832,
     "end_time": "2025-02-28T21:51:29.087697",
     "exception": false,
     "start_time": "2025-02-28T21:51:28.970865",
     "status": "completed"
    },
    "tags": []
   },
   "outputs": [],
   "source": [
    "X = train_encoded.drop(target, axis=1)\n",
    "y = train_encoded[target]"
   ]
  },
  {
   "cell_type": "code",
   "execution_count": 41,
   "id": "6d1721b9",
   "metadata": {
    "execution": {
     "iopub.execute_input": "2025-02-28T21:51:29.128146Z",
     "iopub.status.busy": "2025-02-28T21:51:29.127910Z",
     "iopub.status.idle": "2025-02-28T21:51:29.850626Z",
     "shell.execute_reply": "2025-02-28T21:51:29.849905Z"
    },
    "papermill": {
     "duration": 0.744568,
     "end_time": "2025-02-28T21:51:29.852203",
     "exception": false,
     "start_time": "2025-02-28T21:51:29.107635",
     "status": "completed"
    },
    "tags": []
   },
   "outputs": [],
   "source": [
    "X_train, X_test, y_train, y_test = train_test_split(X, y, test_size=0.2, random_state=42)"
   ]
  },
  {
   "cell_type": "markdown",
   "id": "684f1be2",
   "metadata": {
    "papermill": {
     "duration": 0.019128,
     "end_time": "2025-02-28T21:51:29.891632",
     "exception": false,
     "start_time": "2025-02-28T21:51:29.872504",
     "status": "completed"
    },
    "tags": []
   },
   "source": [
    "## Grid Search"
   ]
  },
  {
   "cell_type": "code",
   "execution_count": 42,
   "id": "4e98bce0",
   "metadata": {
    "execution": {
     "iopub.execute_input": "2025-02-28T21:51:29.931126Z",
     "iopub.status.busy": "2025-02-28T21:51:29.930862Z",
     "iopub.status.idle": "2025-02-28T21:51:29.934200Z",
     "shell.execute_reply": "2025-02-28T21:51:29.933588Z"
    },
    "papermill": {
     "duration": 0.024566,
     "end_time": "2025-02-28T21:51:29.935395",
     "exception": false,
     "start_time": "2025-02-28T21:51:29.910829",
     "status": "completed"
    },
    "tags": []
   },
   "outputs": [],
   "source": [
    "param_grid = {\n",
    "    'n_estimators': [50, 100, 200],  # Número de árvores\n",
    "    'learning_rate': [0.01, 0.1, 0.2],  # Taxa de aprendizado\n",
    "    'max_depth': [3, 6, 10],  # Profundidade máxima das árvores\n",
    "}"
   ]
  },
  {
   "cell_type": "code",
   "execution_count": 43,
   "id": "2a306ed0",
   "metadata": {
    "execution": {
     "iopub.execute_input": "2025-02-28T21:51:29.974659Z",
     "iopub.status.busy": "2025-02-28T21:51:29.974439Z",
     "iopub.status.idle": "2025-02-28T22:11:53.435177Z",
     "shell.execute_reply": "2025-02-28T22:11:53.434251Z"
    },
    "papermill": {
     "duration": 1223.482378,
     "end_time": "2025-02-28T22:11:53.436710",
     "exception": false,
     "start_time": "2025-02-28T21:51:29.954332",
     "status": "completed"
    },
    "tags": []
   },
   "outputs": [
    {
     "name": "stdout",
     "output_type": "stream",
     "text": [
      "Fitting 5 folds for each of 27 candidates, totalling 135 fits\n",
      "[CV] END ...learning_rate=0.01, max_depth=3, n_estimators=50; total time=   7.9s\n",
      "[CV] END ...learning_rate=0.01, max_depth=3, n_estimators=50; total time=   7.6s\n",
      "[CV] END ...learning_rate=0.01, max_depth=3, n_estimators=50; total time=   7.6s\n",
      "[CV] END ...learning_rate=0.01, max_depth=3, n_estimators=50; total time=   7.4s\n",
      "[CV] END ...learning_rate=0.01, max_depth=3, n_estimators=50; total time=   7.2s\n",
      "[CV] END ..learning_rate=0.01, max_depth=3, n_estimators=100; total time=   8.4s\n",
      "[CV] END ..learning_rate=0.01, max_depth=3, n_estimators=100; total time=   8.0s\n",
      "[CV] END ..learning_rate=0.01, max_depth=3, n_estimators=100; total time=   8.3s\n",
      "[CV] END ..learning_rate=0.01, max_depth=3, n_estimators=100; total time=   8.3s\n",
      "[CV] END ..learning_rate=0.01, max_depth=3, n_estimators=100; total time=   8.4s\n",
      "[CV] END ..learning_rate=0.01, max_depth=3, n_estimators=200; total time=   9.7s\n",
      "[CV] END ..learning_rate=0.01, max_depth=3, n_estimators=200; total time=   9.6s\n",
      "[CV] END ..learning_rate=0.01, max_depth=3, n_estimators=200; total time=   9.6s\n",
      "[CV] END ..learning_rate=0.01, max_depth=3, n_estimators=200; total time=   9.8s\n",
      "[CV] END ..learning_rate=0.01, max_depth=3, n_estimators=200; total time=   9.7s\n",
      "[CV] END ...learning_rate=0.01, max_depth=6, n_estimators=50; total time=   7.9s\n",
      "[CV] END ...learning_rate=0.01, max_depth=6, n_estimators=50; total time=   7.9s\n",
      "[CV] END ...learning_rate=0.01, max_depth=6, n_estimators=50; total time=   7.0s\n",
      "[CV] END ...learning_rate=0.01, max_depth=6, n_estimators=50; total time=   7.1s\n",
      "[CV] END ...learning_rate=0.01, max_depth=6, n_estimators=50; total time=   7.2s\n",
      "[CV] END ..learning_rate=0.01, max_depth=6, n_estimators=100; total time=   8.6s\n",
      "[CV] END ..learning_rate=0.01, max_depth=6, n_estimators=100; total time=   8.6s\n",
      "[CV] END ..learning_rate=0.01, max_depth=6, n_estimators=100; total time=   8.5s\n",
      "[CV] END ..learning_rate=0.01, max_depth=6, n_estimators=100; total time=   8.6s\n",
      "[CV] END ..learning_rate=0.01, max_depth=6, n_estimators=100; total time=   8.7s\n",
      "[CV] END ..learning_rate=0.01, max_depth=6, n_estimators=200; total time=  10.6s\n",
      "[CV] END ..learning_rate=0.01, max_depth=6, n_estimators=200; total time=  10.4s\n",
      "[CV] END ..learning_rate=0.01, max_depth=6, n_estimators=200; total time=  10.8s\n",
      "[CV] END ..learning_rate=0.01, max_depth=6, n_estimators=200; total time=  10.4s\n",
      "[CV] END ..learning_rate=0.01, max_depth=6, n_estimators=200; total time=  10.5s\n",
      "[CV] END ..learning_rate=0.01, max_depth=10, n_estimators=50; total time=   8.9s\n",
      "[CV] END ..learning_rate=0.01, max_depth=10, n_estimators=50; total time=   8.6s\n",
      "[CV] END ..learning_rate=0.01, max_depth=10, n_estimators=50; total time=   8.4s\n",
      "[CV] END ..learning_rate=0.01, max_depth=10, n_estimators=50; total time=   8.0s\n",
      "[CV] END ..learning_rate=0.01, max_depth=10, n_estimators=50; total time=   8.1s\n",
      "[CV] END .learning_rate=0.01, max_depth=10, n_estimators=100; total time=   9.8s\n",
      "[CV] END .learning_rate=0.01, max_depth=10, n_estimators=100; total time=  10.2s\n",
      "[CV] END .learning_rate=0.01, max_depth=10, n_estimators=100; total time=  10.2s\n",
      "[CV] END .learning_rate=0.01, max_depth=10, n_estimators=100; total time=   9.7s\n",
      "[CV] END .learning_rate=0.01, max_depth=10, n_estimators=100; total time=  10.2s\n",
      "[CV] END .learning_rate=0.01, max_depth=10, n_estimators=200; total time=  14.0s\n",
      "[CV] END .learning_rate=0.01, max_depth=10, n_estimators=200; total time=  14.2s\n",
      "[CV] END .learning_rate=0.01, max_depth=10, n_estimators=200; total time=  13.9s\n",
      "[CV] END .learning_rate=0.01, max_depth=10, n_estimators=200; total time=  13.5s\n",
      "[CV] END .learning_rate=0.01, max_depth=10, n_estimators=200; total time=  13.2s\n",
      "[CV] END ....learning_rate=0.1, max_depth=3, n_estimators=50; total time=   7.1s\n",
      "[CV] END ....learning_rate=0.1, max_depth=3, n_estimators=50; total time=   7.2s\n",
      "[CV] END ....learning_rate=0.1, max_depth=3, n_estimators=50; total time=   7.4s\n",
      "[CV] END ....learning_rate=0.1, max_depth=3, n_estimators=50; total time=   6.7s\n",
      "[CV] END ....learning_rate=0.1, max_depth=3, n_estimators=50; total time=   7.0s\n",
      "[CV] END ...learning_rate=0.1, max_depth=3, n_estimators=100; total time=   7.6s\n",
      "[CV] END ...learning_rate=0.1, max_depth=3, n_estimators=100; total time=   7.7s\n",
      "[CV] END ...learning_rate=0.1, max_depth=3, n_estimators=100; total time=   8.1s\n",
      "[CV] END ...learning_rate=0.1, max_depth=3, n_estimators=100; total time=   7.4s\n",
      "[CV] END ...learning_rate=0.1, max_depth=3, n_estimators=100; total time=   7.5s\n",
      "[CV] END ...learning_rate=0.1, max_depth=3, n_estimators=200; total time=   8.9s\n",
      "[CV] END ...learning_rate=0.1, max_depth=3, n_estimators=200; total time=   8.9s\n",
      "[CV] END ...learning_rate=0.1, max_depth=3, n_estimators=200; total time=   9.1s\n",
      "[CV] END ...learning_rate=0.1, max_depth=3, n_estimators=200; total time=   9.4s\n",
      "[CV] END ...learning_rate=0.1, max_depth=3, n_estimators=200; total time=   8.8s\n",
      "[CV] END ....learning_rate=0.1, max_depth=6, n_estimators=50; total time=   7.1s\n",
      "[CV] END ....learning_rate=0.1, max_depth=6, n_estimators=50; total time=   7.6s\n",
      "[CV] END ....learning_rate=0.1, max_depth=6, n_estimators=50; total time=   7.4s\n",
      "[CV] END ....learning_rate=0.1, max_depth=6, n_estimators=50; total time=   7.4s\n",
      "[CV] END ....learning_rate=0.1, max_depth=6, n_estimators=50; total time=   6.9s\n",
      "[CV] END ...learning_rate=0.1, max_depth=6, n_estimators=100; total time=   8.0s\n",
      "[CV] END ...learning_rate=0.1, max_depth=6, n_estimators=100; total time=   8.1s\n",
      "[CV] END ...learning_rate=0.1, max_depth=6, n_estimators=100; total time=   8.1s\n",
      "[CV] END ...learning_rate=0.1, max_depth=6, n_estimators=100; total time=   8.3s\n",
      "[CV] END ...learning_rate=0.1, max_depth=6, n_estimators=100; total time=   7.9s\n",
      "[CV] END ...learning_rate=0.1, max_depth=6, n_estimators=200; total time=   9.6s\n",
      "[CV] END ...learning_rate=0.1, max_depth=6, n_estimators=200; total time=   9.7s\n",
      "[CV] END ...learning_rate=0.1, max_depth=6, n_estimators=200; total time=   9.8s\n",
      "[CV] END ...learning_rate=0.1, max_depth=6, n_estimators=200; total time=  10.0s\n",
      "[CV] END ...learning_rate=0.1, max_depth=6, n_estimators=200; total time=   9.4s\n",
      "[CV] END ...learning_rate=0.1, max_depth=10, n_estimators=50; total time=   7.9s\n",
      "[CV] END ...learning_rate=0.1, max_depth=10, n_estimators=50; total time=   8.2s\n",
      "[CV] END ...learning_rate=0.1, max_depth=10, n_estimators=50; total time=   8.1s\n",
      "[CV] END ...learning_rate=0.1, max_depth=10, n_estimators=50; total time=   8.3s\n",
      "[CV] END ...learning_rate=0.1, max_depth=10, n_estimators=50; total time=   7.8s\n",
      "[CV] END ..learning_rate=0.1, max_depth=10, n_estimators=100; total time=   9.5s\n",
      "[CV] END ..learning_rate=0.1, max_depth=10, n_estimators=100; total time=   9.6s\n",
      "[CV] END ..learning_rate=0.1, max_depth=10, n_estimators=100; total time=   9.7s\n",
      "[CV] END ..learning_rate=0.1, max_depth=10, n_estimators=100; total time=  10.0s\n",
      "[CV] END ..learning_rate=0.1, max_depth=10, n_estimators=100; total time=   9.4s\n",
      "[CV] END ..learning_rate=0.1, max_depth=10, n_estimators=200; total time=  12.6s\n",
      "[CV] END ..learning_rate=0.1, max_depth=10, n_estimators=200; total time=  12.8s\n",
      "[CV] END ..learning_rate=0.1, max_depth=10, n_estimators=200; total time=  12.8s\n",
      "[CV] END ..learning_rate=0.1, max_depth=10, n_estimators=200; total time=  13.0s\n",
      "[CV] END ..learning_rate=0.1, max_depth=10, n_estimators=200; total time=  12.5s\n",
      "[CV] END ....learning_rate=0.2, max_depth=3, n_estimators=50; total time=   6.8s\n",
      "[CV] END ....learning_rate=0.2, max_depth=3, n_estimators=50; total time=   6.9s\n",
      "[CV] END ....learning_rate=0.2, max_depth=3, n_estimators=50; total time=   7.1s\n",
      "[CV] END ....learning_rate=0.2, max_depth=3, n_estimators=50; total time=   7.4s\n",
      "[CV] END ....learning_rate=0.2, max_depth=3, n_estimators=50; total time=   6.7s\n",
      "[CV] END ...learning_rate=0.2, max_depth=3, n_estimators=100; total time=   7.5s\n",
      "[CV] END ...learning_rate=0.2, max_depth=3, n_estimators=100; total time=   7.6s\n",
      "[CV] END ...learning_rate=0.2, max_depth=3, n_estimators=100; total time=   7.7s\n",
      "[CV] END ...learning_rate=0.2, max_depth=3, n_estimators=100; total time=   7.8s\n",
      "[CV] END ...learning_rate=0.2, max_depth=3, n_estimators=100; total time=   8.0s\n",
      "[CV] END ...learning_rate=0.2, max_depth=3, n_estimators=200; total time=   8.7s\n",
      "[CV] END ...learning_rate=0.2, max_depth=3, n_estimators=200; total time=   8.9s\n",
      "[CV] END ...learning_rate=0.2, max_depth=3, n_estimators=200; total time=   9.1s\n",
      "[CV] END ...learning_rate=0.2, max_depth=3, n_estimators=200; total time=   9.1s\n",
      "[CV] END ...learning_rate=0.2, max_depth=3, n_estimators=200; total time=   9.6s\n",
      "[CV] END ....learning_rate=0.2, max_depth=6, n_estimators=50; total time=   7.0s\n",
      "[CV] END ....learning_rate=0.2, max_depth=6, n_estimators=50; total time=   7.1s\n",
      "[CV] END ....learning_rate=0.2, max_depth=6, n_estimators=50; total time=   7.2s\n",
      "[CV] END ....learning_rate=0.2, max_depth=6, n_estimators=50; total time=   7.3s\n",
      "[CV] END ....learning_rate=0.2, max_depth=6, n_estimators=50; total time=   7.4s\n",
      "[CV] END ...learning_rate=0.2, max_depth=6, n_estimators=100; total time=   8.5s\n",
      "[CV] END ...learning_rate=0.2, max_depth=6, n_estimators=100; total time=   7.9s\n",
      "[CV] END ...learning_rate=0.2, max_depth=6, n_estimators=100; total time=   8.0s\n",
      "[CV] END ...learning_rate=0.2, max_depth=6, n_estimators=100; total time=   8.1s\n",
      "[CV] END ...learning_rate=0.2, max_depth=6, n_estimators=100; total time=   8.2s\n",
      "[CV] END ...learning_rate=0.2, max_depth=6, n_estimators=200; total time=   9.9s\n",
      "[CV] END ...learning_rate=0.2, max_depth=6, n_estimators=200; total time=   9.7s\n",
      "[CV] END ...learning_rate=0.2, max_depth=6, n_estimators=200; total time=   9.8s\n",
      "[CV] END ...learning_rate=0.2, max_depth=6, n_estimators=200; total time=   9.8s\n",
      "[CV] END ...learning_rate=0.2, max_depth=6, n_estimators=200; total time=   9.9s\n",
      "[CV] END ...learning_rate=0.2, max_depth=10, n_estimators=50; total time=   8.4s\n",
      "[CV] END ...learning_rate=0.2, max_depth=10, n_estimators=50; total time=   8.0s\n",
      "[CV] END ...learning_rate=0.2, max_depth=10, n_estimators=50; total time=   8.0s\n",
      "[CV] END ...learning_rate=0.2, max_depth=10, n_estimators=50; total time=   7.9s\n",
      "[CV] END ...learning_rate=0.2, max_depth=10, n_estimators=50; total time=   8.0s\n",
      "[CV] END ..learning_rate=0.2, max_depth=10, n_estimators=100; total time=   9.7s\n",
      "[CV] END ..learning_rate=0.2, max_depth=10, n_estimators=100; total time=   9.5s\n",
      "[CV] END ..learning_rate=0.2, max_depth=10, n_estimators=100; total time=   9.4s\n",
      "[CV] END ..learning_rate=0.2, max_depth=10, n_estimators=100; total time=   9.4s\n",
      "[CV] END ..learning_rate=0.2, max_depth=10, n_estimators=100; total time=   9.4s\n",
      "[CV] END ..learning_rate=0.2, max_depth=10, n_estimators=200; total time=  12.8s\n",
      "[CV] END ..learning_rate=0.2, max_depth=10, n_estimators=200; total time=  12.4s\n",
      "[CV] END ..learning_rate=0.2, max_depth=10, n_estimators=200; total time=  12.5s\n",
      "[CV] END ..learning_rate=0.2, max_depth=10, n_estimators=200; total time=  12.6s\n",
      "[CV] END ..learning_rate=0.2, max_depth=10, n_estimators=200; total time=  12.5s\n",
      "Melhores parâmetros encontrados:  {'learning_rate': 0.2, 'max_depth': 3, 'n_estimators': 200}\n"
     ]
    }
   ],
   "source": [
    "model = xgb.XGBRegressor(objective='reg:squarederror', tree_method='gpu_hist', random_state=42)\n",
    "grid_search = GridSearchCV(estimator=model, param_grid=param_grid, \n",
    "                           scoring='neg_mean_squared_error',  # Usando o erro quadrático negativo\n",
    "                           cv=5,  # Número de folds para cross-validation\n",
    "                           verbose=2,  # Exibir informações de progresso\n",
    "                           )  # Usar todos os núcleos do processador\n",
    "grid_search.fit(X_train, y_train)\n",
    "print(\"Melhores parâmetros encontrados: \", grid_search.best_params_)\n",
    "\n",
    "# Melhor modelo\n",
    "best_model = grid_search.best_estimator_"
   ]
  },
  {
   "cell_type": "code",
   "execution_count": 44,
   "id": "84a9bfea",
   "metadata": {
    "execution": {
     "iopub.execute_input": "2025-02-28T22:11:53.488218Z",
     "iopub.status.busy": "2025-02-28T22:11:53.487925Z",
     "iopub.status.idle": "2025-02-28T22:11:54.555183Z",
     "shell.execute_reply": "2025-02-28T22:11:54.554081Z"
    },
    "papermill": {
     "duration": 1.09388,
     "end_time": "2025-02-28T22:11:54.556588",
     "exception": false,
     "start_time": "2025-02-28T22:11:53.462708",
     "status": "completed"
    },
    "tags": []
   },
   "outputs": [
    {
     "name": "stdout",
     "output_type": "stream",
     "text": [
      "RMSE: 38.87833885987618\n"
     ]
    }
   ],
   "source": [
    "y_pred = best_model.predict(X_test)\n",
    "\n",
    "# Calculando o RMSE\n",
    "rmse = np.sqrt(mean_squared_error(y_test, y_pred))\n",
    "print(f'RMSE: {rmse}')"
   ]
  },
  {
   "cell_type": "code",
   "execution_count": 45,
   "id": "7b332c2f",
   "metadata": {
    "execution": {
     "iopub.execute_input": "2025-02-28T22:11:54.609141Z",
     "iopub.status.busy": "2025-02-28T22:11:54.608895Z",
     "iopub.status.idle": "2025-02-28T22:11:54.612364Z",
     "shell.execute_reply": "2025-02-28T22:11:54.611700Z"
    },
    "papermill": {
     "duration": 0.030368,
     "end_time": "2025-02-28T22:11:54.613466",
     "exception": false,
     "start_time": "2025-02-28T22:11:54.583098",
     "status": "completed"
    },
    "tags": []
   },
   "outputs": [],
   "source": [
    "param_grid = {\n",
    "    'n_estimators': [250, 300, 500],  # Número de árvores\n",
    "    'learning_rate': [0.2, 0.5, 0.7],  # Taxa de aprendizado\n",
    "    'max_depth': [3, 2],  # Profundidade máxima das árvores\n",
    "}"
   ]
  },
  {
   "cell_type": "code",
   "execution_count": 46,
   "id": "a8b8e3f6",
   "metadata": {
    "execution": {
     "iopub.execute_input": "2025-02-28T22:11:54.663795Z",
     "iopub.status.busy": "2025-02-28T22:11:54.663571Z",
     "iopub.status.idle": "2025-02-28T22:28:45.463009Z",
     "shell.execute_reply": "2025-02-28T22:28:45.462029Z"
    },
    "papermill": {
     "duration": 1010.826169,
     "end_time": "2025-02-28T22:28:45.464485",
     "exception": false,
     "start_time": "2025-02-28T22:11:54.638316",
     "status": "completed"
    },
    "tags": []
   },
   "outputs": [
    {
     "name": "stdout",
     "output_type": "stream",
     "text": [
      "Fitting 5 folds for each of 18 candidates, totalling 90 fits\n",
      "[CV] END ...learning_rate=0.2, max_depth=3, n_estimators=250; total time=  10.0s\n",
      "[CV] END ...learning_rate=0.2, max_depth=3, n_estimators=250; total time=   9.7s\n",
      "[CV] END ...learning_rate=0.2, max_depth=3, n_estimators=250; total time=   9.6s\n",
      "[CV] END ...learning_rate=0.2, max_depth=3, n_estimators=250; total time=   9.6s\n",
      "[CV] END ...learning_rate=0.2, max_depth=3, n_estimators=250; total time=   9.8s\n",
      "[CV] END ...learning_rate=0.2, max_depth=3, n_estimators=300; total time=  10.4s\n",
      "[CV] END ...learning_rate=0.2, max_depth=3, n_estimators=300; total time=  10.6s\n",
      "[CV] END ...learning_rate=0.2, max_depth=3, n_estimators=300; total time=  10.2s\n",
      "[CV] END ...learning_rate=0.2, max_depth=3, n_estimators=300; total time=  10.4s\n",
      "[CV] END ...learning_rate=0.2, max_depth=3, n_estimators=300; total time=  10.4s\n",
      "[CV] END ...learning_rate=0.2, max_depth=3, n_estimators=500; total time=  13.0s\n",
      "[CV] END ...learning_rate=0.2, max_depth=3, n_estimators=500; total time=  13.7s\n",
      "[CV] END ...learning_rate=0.2, max_depth=3, n_estimators=500; total time=  13.1s\n",
      "[CV] END ...learning_rate=0.2, max_depth=3, n_estimators=500; total time=  12.9s\n",
      "[CV] END ...learning_rate=0.2, max_depth=3, n_estimators=500; total time=  12.9s\n",
      "[CV] END ...learning_rate=0.2, max_depth=2, n_estimators=250; total time=   9.5s\n",
      "[CV] END ...learning_rate=0.2, max_depth=2, n_estimators=250; total time=   9.6s\n",
      "[CV] END ...learning_rate=0.2, max_depth=2, n_estimators=250; total time=   9.9s\n",
      "[CV] END ...learning_rate=0.2, max_depth=2, n_estimators=250; total time=   9.3s\n",
      "[CV] END ...learning_rate=0.2, max_depth=2, n_estimators=250; total time=   9.2s\n",
      "[CV] END ...learning_rate=0.2, max_depth=2, n_estimators=300; total time=  10.4s\n",
      "[CV] END ...learning_rate=0.2, max_depth=2, n_estimators=300; total time=  10.0s\n",
      "[CV] END ...learning_rate=0.2, max_depth=2, n_estimators=300; total time=  10.8s\n",
      "[CV] END ...learning_rate=0.2, max_depth=2, n_estimators=300; total time=  10.5s\n",
      "[CV] END ...learning_rate=0.2, max_depth=2, n_estimators=300; total time=  10.2s\n",
      "[CV] END ...learning_rate=0.2, max_depth=2, n_estimators=500; total time=  13.1s\n",
      "[CV] END ...learning_rate=0.2, max_depth=2, n_estimators=500; total time=  13.2s\n",
      "[CV] END ...learning_rate=0.2, max_depth=2, n_estimators=500; total time=  13.1s\n",
      "[CV] END ...learning_rate=0.2, max_depth=2, n_estimators=500; total time=  13.2s\n",
      "[CV] END ...learning_rate=0.2, max_depth=2, n_estimators=500; total time=  12.8s\n",
      "[CV] END ...learning_rate=0.5, max_depth=3, n_estimators=250; total time=   9.9s\n",
      "[CV] END ...learning_rate=0.5, max_depth=3, n_estimators=250; total time=   9.9s\n",
      "[CV] END ...learning_rate=0.5, max_depth=3, n_estimators=250; total time=  10.0s\n",
      "[CV] END ...learning_rate=0.5, max_depth=3, n_estimators=250; total time=  10.4s\n",
      "[CV] END ...learning_rate=0.5, max_depth=3, n_estimators=250; total time=   9.8s\n",
      "[CV] END ...learning_rate=0.5, max_depth=3, n_estimators=300; total time=  10.6s\n",
      "[CV] END ...learning_rate=0.5, max_depth=3, n_estimators=300; total time=  10.5s\n",
      "[CV] END ...learning_rate=0.5, max_depth=3, n_estimators=300; total time=  10.7s\n",
      "[CV] END ...learning_rate=0.5, max_depth=3, n_estimators=300; total time=  10.7s\n",
      "[CV] END ...learning_rate=0.5, max_depth=3, n_estimators=300; total time=  10.8s\n",
      "[CV] END ...learning_rate=0.5, max_depth=3, n_estimators=500; total time=  13.3s\n",
      "[CV] END ...learning_rate=0.5, max_depth=3, n_estimators=500; total time=  13.5s\n",
      "[CV] END ...learning_rate=0.5, max_depth=3, n_estimators=500; total time=  13.3s\n",
      "[CV] END ...learning_rate=0.5, max_depth=3, n_estimators=500; total time=  13.4s\n",
      "[CV] END ...learning_rate=0.5, max_depth=3, n_estimators=500; total time=  13.6s\n",
      "[CV] END ...learning_rate=0.5, max_depth=2, n_estimators=250; total time=   9.7s\n",
      "[CV] END ...learning_rate=0.5, max_depth=2, n_estimators=250; total time=   9.6s\n",
      "[CV] END ...learning_rate=0.5, max_depth=2, n_estimators=250; total time=   9.7s\n",
      "[CV] END ...learning_rate=0.5, max_depth=2, n_estimators=250; total time=   9.7s\n",
      "[CV] END ...learning_rate=0.5, max_depth=2, n_estimators=250; total time=   9.7s\n",
      "[CV] END ...learning_rate=0.5, max_depth=2, n_estimators=300; total time=  10.5s\n",
      "[CV] END ...learning_rate=0.5, max_depth=2, n_estimators=300; total time=  10.2s\n",
      "[CV] END ...learning_rate=0.5, max_depth=2, n_estimators=300; total time=  10.3s\n",
      "[CV] END ...learning_rate=0.5, max_depth=2, n_estimators=300; total time=  10.2s\n",
      "[CV] END ...learning_rate=0.5, max_depth=2, n_estimators=300; total time=  10.2s\n",
      "[CV] END ...learning_rate=0.5, max_depth=2, n_estimators=500; total time=  13.3s\n",
      "[CV] END ...learning_rate=0.5, max_depth=2, n_estimators=500; total time=  13.2s\n",
      "[CV] END ...learning_rate=0.5, max_depth=2, n_estimators=500; total time=  12.8s\n",
      "[CV] END ...learning_rate=0.5, max_depth=2, n_estimators=500; total time=  13.1s\n",
      "[CV] END ...learning_rate=0.5, max_depth=2, n_estimators=500; total time=  12.8s\n",
      "[CV] END ...learning_rate=0.7, max_depth=3, n_estimators=250; total time=  10.1s\n",
      "[CV] END ...learning_rate=0.7, max_depth=3, n_estimators=250; total time=  10.0s\n",
      "[CV] END ...learning_rate=0.7, max_depth=3, n_estimators=250; total time=   9.7s\n",
      "[CV] END ...learning_rate=0.7, max_depth=3, n_estimators=250; total time=   9.9s\n",
      "[CV] END ...learning_rate=0.7, max_depth=3, n_estimators=250; total time=   9.9s\n",
      "[CV] END ...learning_rate=0.7, max_depth=3, n_estimators=300; total time=  10.5s\n",
      "[CV] END ...learning_rate=0.7, max_depth=3, n_estimators=300; total time=  11.1s\n",
      "[CV] END ...learning_rate=0.7, max_depth=3, n_estimators=300; total time=  10.7s\n",
      "[CV] END ...learning_rate=0.7, max_depth=3, n_estimators=300; total time=  10.5s\n",
      "[CV] END ...learning_rate=0.7, max_depth=3, n_estimators=300; total time=  10.5s\n",
      "[CV] END ...learning_rate=0.7, max_depth=3, n_estimators=500; total time=  12.9s\n",
      "[CV] END ...learning_rate=0.7, max_depth=3, n_estimators=500; total time=  13.2s\n",
      "[CV] END ...learning_rate=0.7, max_depth=3, n_estimators=500; total time=  13.5s\n",
      "[CV] END ...learning_rate=0.7, max_depth=3, n_estimators=500; total time=  12.8s\n",
      "[CV] END ...learning_rate=0.7, max_depth=3, n_estimators=500; total time=  12.8s\n",
      "[CV] END ...learning_rate=0.7, max_depth=2, n_estimators=250; total time=   9.3s\n",
      "[CV] END ...learning_rate=0.7, max_depth=2, n_estimators=250; total time=   9.3s\n",
      "[CV] END ...learning_rate=0.7, max_depth=2, n_estimators=250; total time=  10.0s\n",
      "[CV] END ...learning_rate=0.7, max_depth=2, n_estimators=250; total time=   9.4s\n",
      "[CV] END ...learning_rate=0.7, max_depth=2, n_estimators=250; total time=   9.2s\n",
      "[CV] END ...learning_rate=0.7, max_depth=2, n_estimators=300; total time=   9.9s\n",
      "[CV] END ...learning_rate=0.7, max_depth=2, n_estimators=300; total time=  10.2s\n",
      "[CV] END ...learning_rate=0.7, max_depth=2, n_estimators=300; total time=  10.1s\n",
      "[CV] END ...learning_rate=0.7, max_depth=2, n_estimators=300; total time=  10.2s\n",
      "[CV] END ...learning_rate=0.7, max_depth=2, n_estimators=300; total time=  10.2s\n",
      "[CV] END ...learning_rate=0.7, max_depth=2, n_estimators=500; total time=  12.6s\n",
      "[CV] END ...learning_rate=0.7, max_depth=2, n_estimators=500; total time=  12.5s\n",
      "[CV] END ...learning_rate=0.7, max_depth=2, n_estimators=500; total time=  12.7s\n",
      "[CV] END ...learning_rate=0.7, max_depth=2, n_estimators=500; total time=  13.2s\n",
      "[CV] END ...learning_rate=0.7, max_depth=2, n_estimators=500; total time=  12.6s\n",
      "Melhores parâmetros encontrados:  {'learning_rate': 0.5, 'max_depth': 2, 'n_estimators': 500}\n"
     ]
    }
   ],
   "source": [
    "model = xgb.XGBRegressor(objective='reg:squarederror', tree_method='gpu_hist', random_state=42)\n",
    "grid_search = GridSearchCV(estimator=model, param_grid=param_grid, \n",
    "                           scoring='neg_mean_squared_error',  # Usando o erro quadrático negativo\n",
    "                           cv=5,  # Número de folds para cross-validation\n",
    "                           verbose=2,  # Exibir informações de progresso\n",
    "                           )  # Usar todos os núcleos do processador\n",
    "grid_search.fit(X_train, y_train)\n",
    "print(\"Melhores parâmetros encontrados: \", grid_search.best_params_)\n",
    "\n",
    "# Melhor modelo\n",
    "best_model = grid_search.best_estimator_"
   ]
  },
  {
   "cell_type": "code",
   "execution_count": 47,
   "id": "92149657",
   "metadata": {
    "execution": {
     "iopub.execute_input": "2025-02-28T22:28:45.523826Z",
     "iopub.status.busy": "2025-02-28T22:28:45.523553Z",
     "iopub.status.idle": "2025-02-28T22:28:46.623141Z",
     "shell.execute_reply": "2025-02-28T22:28:46.622278Z"
    },
    "papermill": {
     "duration": 1.130736,
     "end_time": "2025-02-28T22:28:46.624671",
     "exception": false,
     "start_time": "2025-02-28T22:28:45.493935",
     "status": "completed"
    },
    "tags": []
   },
   "outputs": [
    {
     "name": "stdout",
     "output_type": "stream",
     "text": [
      "RMSE: 38.87760380607096\n"
     ]
    }
   ],
   "source": [
    "y_pred = best_model.predict(X_test)\n",
    "\n",
    "# Calculando o RMSE\n",
    "rmse = np.sqrt(mean_squared_error(y_test, y_pred))\n",
    "print(f'RMSE: {rmse}')"
   ]
  },
  {
   "cell_type": "markdown",
   "id": "d1215dfb",
   "metadata": {
    "papermill": {
     "duration": 0.028843,
     "end_time": "2025-02-28T22:28:46.683589",
     "exception": false,
     "start_time": "2025-02-28T22:28:46.654746",
     "status": "completed"
    },
    "tags": []
   },
   "source": [
    "## Best result submission"
   ]
  },
  {
   "cell_type": "markdown",
   "id": "f106c855",
   "metadata": {
    "papermill": {
     "duration": 0.028858,
     "end_time": "2025-02-28T22:28:46.741612",
     "exception": false,
     "start_time": "2025-02-28T22:28:46.712754",
     "status": "completed"
    },
    "tags": []
   },
   "source": [
    "### 1st"
   ]
  },
  {
   "cell_type": "code",
   "execution_count": 48,
   "id": "36444e44",
   "metadata": {
    "execution": {
     "iopub.execute_input": "2025-02-28T22:28:46.802142Z",
     "iopub.status.busy": "2025-02-28T22:28:46.801820Z",
     "iopub.status.idle": "2025-02-28T22:29:12.475015Z",
     "shell.execute_reply": "2025-02-28T22:29:12.474295Z"
    },
    "papermill": {
     "duration": 25.705197,
     "end_time": "2025-02-28T22:29:12.476491",
     "exception": false,
     "start_time": "2025-02-28T22:28:46.771294",
     "status": "completed"
    },
    "tags": []
   },
   "outputs": [
    {
     "data": {
      "text/html": [
       "<style>#sk-container-id-1 {color: black;background-color: white;}#sk-container-id-1 pre{padding: 0;}#sk-container-id-1 div.sk-toggleable {background-color: white;}#sk-container-id-1 label.sk-toggleable__label {cursor: pointer;display: block;width: 100%;margin-bottom: 0;padding: 0.3em;box-sizing: border-box;text-align: center;}#sk-container-id-1 label.sk-toggleable__label-arrow:before {content: \"▸\";float: left;margin-right: 0.25em;color: #696969;}#sk-container-id-1 label.sk-toggleable__label-arrow:hover:before {color: black;}#sk-container-id-1 div.sk-estimator:hover label.sk-toggleable__label-arrow:before {color: black;}#sk-container-id-1 div.sk-toggleable__content {max-height: 0;max-width: 0;overflow: hidden;text-align: left;background-color: #f0f8ff;}#sk-container-id-1 div.sk-toggleable__content pre {margin: 0.2em;color: black;border-radius: 0.25em;background-color: #f0f8ff;}#sk-container-id-1 input.sk-toggleable__control:checked~div.sk-toggleable__content {max-height: 200px;max-width: 100%;overflow: auto;}#sk-container-id-1 input.sk-toggleable__control:checked~label.sk-toggleable__label-arrow:before {content: \"▾\";}#sk-container-id-1 div.sk-estimator input.sk-toggleable__control:checked~label.sk-toggleable__label {background-color: #d4ebff;}#sk-container-id-1 div.sk-label input.sk-toggleable__control:checked~label.sk-toggleable__label {background-color: #d4ebff;}#sk-container-id-1 input.sk-hidden--visually {border: 0;clip: rect(1px 1px 1px 1px);clip: rect(1px, 1px, 1px, 1px);height: 1px;margin: -1px;overflow: hidden;padding: 0;position: absolute;width: 1px;}#sk-container-id-1 div.sk-estimator {font-family: monospace;background-color: #f0f8ff;border: 1px dotted black;border-radius: 0.25em;box-sizing: border-box;margin-bottom: 0.5em;}#sk-container-id-1 div.sk-estimator:hover {background-color: #d4ebff;}#sk-container-id-1 div.sk-parallel-item::after {content: \"\";width: 100%;border-bottom: 1px solid gray;flex-grow: 1;}#sk-container-id-1 div.sk-label:hover label.sk-toggleable__label {background-color: #d4ebff;}#sk-container-id-1 div.sk-serial::before {content: \"\";position: absolute;border-left: 1px solid gray;box-sizing: border-box;top: 0;bottom: 0;left: 50%;z-index: 0;}#sk-container-id-1 div.sk-serial {display: flex;flex-direction: column;align-items: center;background-color: white;padding-right: 0.2em;padding-left: 0.2em;position: relative;}#sk-container-id-1 div.sk-item {position: relative;z-index: 1;}#sk-container-id-1 div.sk-parallel {display: flex;align-items: stretch;justify-content: center;background-color: white;position: relative;}#sk-container-id-1 div.sk-item::before, #sk-container-id-1 div.sk-parallel-item::before {content: \"\";position: absolute;border-left: 1px solid gray;box-sizing: border-box;top: 0;bottom: 0;left: 50%;z-index: -1;}#sk-container-id-1 div.sk-parallel-item {display: flex;flex-direction: column;z-index: 1;position: relative;background-color: white;}#sk-container-id-1 div.sk-parallel-item:first-child::after {align-self: flex-end;width: 50%;}#sk-container-id-1 div.sk-parallel-item:last-child::after {align-self: flex-start;width: 50%;}#sk-container-id-1 div.sk-parallel-item:only-child::after {width: 0;}#sk-container-id-1 div.sk-dashed-wrapped {border: 1px dashed gray;margin: 0 0.4em 0.5em 0.4em;box-sizing: border-box;padding-bottom: 0.4em;background-color: white;}#sk-container-id-1 div.sk-label label {font-family: monospace;font-weight: bold;display: inline-block;line-height: 1.2em;}#sk-container-id-1 div.sk-label-container {text-align: center;}#sk-container-id-1 div.sk-container {/* jupyter's `normalize.less` sets `[hidden] { display: none; }` but bootstrap.min.css set `[hidden] { display: none !important; }` so we also need the `!important` here to be able to override the default hidden behavior on the sphinx rendered scikit-learn.org. See: https://github.com/scikit-learn/scikit-learn/issues/21755 */display: inline-block !important;position: relative;}#sk-container-id-1 div.sk-text-repr-fallback {display: none;}</style><div id=\"sk-container-id-1\" class=\"sk-top-container\"><div class=\"sk-text-repr-fallback\"><pre>XGBRegressor(base_score=None, booster=None, callbacks=None,\n",
       "             colsample_bylevel=None, colsample_bynode=None,\n",
       "             colsample_bytree=None, device=None, early_stopping_rounds=None,\n",
       "             enable_categorical=False, eval_metric=None, feature_types=None,\n",
       "             gamma=None, grow_policy=None, importance_type=None,\n",
       "             interaction_constraints=None, learning_rate=0.2, max_bin=None,\n",
       "             max_cat_threshold=None, max_cat_to_onehot=None,\n",
       "             max_delta_step=None, max_depth=3, max_leaves=None,\n",
       "             min_child_weight=None, missing=nan, monotone_constraints=None,\n",
       "             multi_strategy=None, n_estimators=200, n_jobs=None,\n",
       "             num_parallel_tree=None, random_state=None, ...)</pre><b>In a Jupyter environment, please rerun this cell to show the HTML representation or trust the notebook. <br />On GitHub, the HTML representation is unable to render, please try loading this page with nbviewer.org.</b></div><div class=\"sk-container\" hidden><div class=\"sk-item\"><div class=\"sk-estimator sk-toggleable\"><input class=\"sk-toggleable__control sk-hidden--visually\" id=\"sk-estimator-id-1\" type=\"checkbox\" checked><label for=\"sk-estimator-id-1\" class=\"sk-toggleable__label sk-toggleable__label-arrow\">XGBRegressor</label><div class=\"sk-toggleable__content\"><pre>XGBRegressor(base_score=None, booster=None, callbacks=None,\n",
       "             colsample_bylevel=None, colsample_bynode=None,\n",
       "             colsample_bytree=None, device=None, early_stopping_rounds=None,\n",
       "             enable_categorical=False, eval_metric=None, feature_types=None,\n",
       "             gamma=None, grow_policy=None, importance_type=None,\n",
       "             interaction_constraints=None, learning_rate=0.2, max_bin=None,\n",
       "             max_cat_threshold=None, max_cat_to_onehot=None,\n",
       "             max_delta_step=None, max_depth=3, max_leaves=None,\n",
       "             min_child_weight=None, missing=nan, monotone_constraints=None,\n",
       "             multi_strategy=None, n_estimators=200, n_jobs=None,\n",
       "             num_parallel_tree=None, random_state=None, ...)</pre></div></div></div></div></div>"
      ],
      "text/plain": [
       "XGBRegressor(base_score=None, booster=None, callbacks=None,\n",
       "             colsample_bylevel=None, colsample_bynode=None,\n",
       "             colsample_bytree=None, device=None, early_stopping_rounds=None,\n",
       "             enable_categorical=False, eval_metric=None, feature_types=None,\n",
       "             gamma=None, grow_policy=None, importance_type=None,\n",
       "             interaction_constraints=None, learning_rate=0.2, max_bin=None,\n",
       "             max_cat_threshold=None, max_cat_to_onehot=None,\n",
       "             max_delta_step=None, max_depth=3, max_leaves=None,\n",
       "             min_child_weight=None, missing=nan, monotone_constraints=None,\n",
       "             multi_strategy=None, n_estimators=200, n_jobs=None,\n",
       "             num_parallel_tree=None, random_state=None, ...)"
      ]
     },
     "execution_count": 48,
     "metadata": {},
     "output_type": "execute_result"
    }
   ],
   "source": [
    "model = xgb.XGBRegressor(objective='reg:squarederror', n_estimators=200, learning_rate=0.2, max_depth=3)\n",
    "model.fit(X, y)"
   ]
  },
  {
   "cell_type": "code",
   "execution_count": 49,
   "id": "c3c2c97e",
   "metadata": {
    "execution": {
     "iopub.execute_input": "2025-02-28T22:29:12.540026Z",
     "iopub.status.busy": "2025-02-28T22:29:12.539736Z",
     "iopub.status.idle": "2025-02-28T22:29:12.907201Z",
     "shell.execute_reply": "2025-02-28T22:29:12.906431Z"
    },
    "papermill": {
     "duration": 0.400625,
     "end_time": "2025-02-28T22:29:12.908822",
     "exception": false,
     "start_time": "2025-02-28T22:29:12.508197",
     "status": "completed"
    },
    "tags": []
   },
   "outputs": [
    {
     "data": {
      "text/plain": [
       "array([81.210014, 82.04096 , 82.44533 , ..., 82.67626 , 81.555786,\n",
       "       81.35394 ], dtype=float32)"
      ]
     },
     "execution_count": 49,
     "metadata": {},
     "output_type": "execute_result"
    }
   ],
   "source": [
    "y_pred = model.predict(test_encoded)\n",
    "y_pred"
   ]
  },
  {
   "cell_type": "markdown",
   "id": "9c159fa1",
   "metadata": {
    "papermill": {
     "duration": 0.029854,
     "end_time": "2025-02-28T22:29:12.971305",
     "exception": false,
     "start_time": "2025-02-28T22:29:12.941451",
     "status": "completed"
    },
    "tags": []
   },
   "source": [
    "### 2nd"
   ]
  },
  {
   "cell_type": "code",
   "execution_count": 50,
   "id": "bb2415c1",
   "metadata": {
    "execution": {
     "iopub.execute_input": "2025-02-28T22:29:13.032711Z",
     "iopub.status.busy": "2025-02-28T22:29:13.032433Z",
     "iopub.status.idle": "2025-02-28T22:29:54.354354Z",
     "shell.execute_reply": "2025-02-28T22:29:54.353661Z"
    },
    "papermill": {
     "duration": 41.386651,
     "end_time": "2025-02-28T22:29:54.387891",
     "exception": false,
     "start_time": "2025-02-28T22:29:13.001240",
     "status": "completed"
    },
    "tags": []
   },
   "outputs": [
    {
     "data": {
      "text/html": [
       "<style>#sk-container-id-2 {color: black;background-color: white;}#sk-container-id-2 pre{padding: 0;}#sk-container-id-2 div.sk-toggleable {background-color: white;}#sk-container-id-2 label.sk-toggleable__label {cursor: pointer;display: block;width: 100%;margin-bottom: 0;padding: 0.3em;box-sizing: border-box;text-align: center;}#sk-container-id-2 label.sk-toggleable__label-arrow:before {content: \"▸\";float: left;margin-right: 0.25em;color: #696969;}#sk-container-id-2 label.sk-toggleable__label-arrow:hover:before {color: black;}#sk-container-id-2 div.sk-estimator:hover label.sk-toggleable__label-arrow:before {color: black;}#sk-container-id-2 div.sk-toggleable__content {max-height: 0;max-width: 0;overflow: hidden;text-align: left;background-color: #f0f8ff;}#sk-container-id-2 div.sk-toggleable__content pre {margin: 0.2em;color: black;border-radius: 0.25em;background-color: #f0f8ff;}#sk-container-id-2 input.sk-toggleable__control:checked~div.sk-toggleable__content {max-height: 200px;max-width: 100%;overflow: auto;}#sk-container-id-2 input.sk-toggleable__control:checked~label.sk-toggleable__label-arrow:before {content: \"▾\";}#sk-container-id-2 div.sk-estimator input.sk-toggleable__control:checked~label.sk-toggleable__label {background-color: #d4ebff;}#sk-container-id-2 div.sk-label input.sk-toggleable__control:checked~label.sk-toggleable__label {background-color: #d4ebff;}#sk-container-id-2 input.sk-hidden--visually {border: 0;clip: rect(1px 1px 1px 1px);clip: rect(1px, 1px, 1px, 1px);height: 1px;margin: -1px;overflow: hidden;padding: 0;position: absolute;width: 1px;}#sk-container-id-2 div.sk-estimator {font-family: monospace;background-color: #f0f8ff;border: 1px dotted black;border-radius: 0.25em;box-sizing: border-box;margin-bottom: 0.5em;}#sk-container-id-2 div.sk-estimator:hover {background-color: #d4ebff;}#sk-container-id-2 div.sk-parallel-item::after {content: \"\";width: 100%;border-bottom: 1px solid gray;flex-grow: 1;}#sk-container-id-2 div.sk-label:hover label.sk-toggleable__label {background-color: #d4ebff;}#sk-container-id-2 div.sk-serial::before {content: \"\";position: absolute;border-left: 1px solid gray;box-sizing: border-box;top: 0;bottom: 0;left: 50%;z-index: 0;}#sk-container-id-2 div.sk-serial {display: flex;flex-direction: column;align-items: center;background-color: white;padding-right: 0.2em;padding-left: 0.2em;position: relative;}#sk-container-id-2 div.sk-item {position: relative;z-index: 1;}#sk-container-id-2 div.sk-parallel {display: flex;align-items: stretch;justify-content: center;background-color: white;position: relative;}#sk-container-id-2 div.sk-item::before, #sk-container-id-2 div.sk-parallel-item::before {content: \"\";position: absolute;border-left: 1px solid gray;box-sizing: border-box;top: 0;bottom: 0;left: 50%;z-index: -1;}#sk-container-id-2 div.sk-parallel-item {display: flex;flex-direction: column;z-index: 1;position: relative;background-color: white;}#sk-container-id-2 div.sk-parallel-item:first-child::after {align-self: flex-end;width: 50%;}#sk-container-id-2 div.sk-parallel-item:last-child::after {align-self: flex-start;width: 50%;}#sk-container-id-2 div.sk-parallel-item:only-child::after {width: 0;}#sk-container-id-2 div.sk-dashed-wrapped {border: 1px dashed gray;margin: 0 0.4em 0.5em 0.4em;box-sizing: border-box;padding-bottom: 0.4em;background-color: white;}#sk-container-id-2 div.sk-label label {font-family: monospace;font-weight: bold;display: inline-block;line-height: 1.2em;}#sk-container-id-2 div.sk-label-container {text-align: center;}#sk-container-id-2 div.sk-container {/* jupyter's `normalize.less` sets `[hidden] { display: none; }` but bootstrap.min.css set `[hidden] { display: none !important; }` so we also need the `!important` here to be able to override the default hidden behavior on the sphinx rendered scikit-learn.org. See: https://github.com/scikit-learn/scikit-learn/issues/21755 */display: inline-block !important;position: relative;}#sk-container-id-2 div.sk-text-repr-fallback {display: none;}</style><div id=\"sk-container-id-2\" class=\"sk-top-container\"><div class=\"sk-text-repr-fallback\"><pre>XGBRegressor(base_score=None, booster=None, callbacks=None,\n",
       "             colsample_bylevel=None, colsample_bynode=None,\n",
       "             colsample_bytree=None, device=None, early_stopping_rounds=None,\n",
       "             enable_categorical=False, eval_metric=None, feature_types=None,\n",
       "             gamma=None, grow_policy=None, importance_type=None,\n",
       "             interaction_constraints=None, learning_rate=0.5, max_bin=None,\n",
       "             max_cat_threshold=None, max_cat_to_onehot=None,\n",
       "             max_delta_step=None, max_depth=2, max_leaves=None,\n",
       "             min_child_weight=None, missing=nan, monotone_constraints=None,\n",
       "             multi_strategy=None, n_estimators=500, n_jobs=None,\n",
       "             num_parallel_tree=None, random_state=None, ...)</pre><b>In a Jupyter environment, please rerun this cell to show the HTML representation or trust the notebook. <br />On GitHub, the HTML representation is unable to render, please try loading this page with nbviewer.org.</b></div><div class=\"sk-container\" hidden><div class=\"sk-item\"><div class=\"sk-estimator sk-toggleable\"><input class=\"sk-toggleable__control sk-hidden--visually\" id=\"sk-estimator-id-2\" type=\"checkbox\" checked><label for=\"sk-estimator-id-2\" class=\"sk-toggleable__label sk-toggleable__label-arrow\">XGBRegressor</label><div class=\"sk-toggleable__content\"><pre>XGBRegressor(base_score=None, booster=None, callbacks=None,\n",
       "             colsample_bylevel=None, colsample_bynode=None,\n",
       "             colsample_bytree=None, device=None, early_stopping_rounds=None,\n",
       "             enable_categorical=False, eval_metric=None, feature_types=None,\n",
       "             gamma=None, grow_policy=None, importance_type=None,\n",
       "             interaction_constraints=None, learning_rate=0.5, max_bin=None,\n",
       "             max_cat_threshold=None, max_cat_to_onehot=None,\n",
       "             max_delta_step=None, max_depth=2, max_leaves=None,\n",
       "             min_child_weight=None, missing=nan, monotone_constraints=None,\n",
       "             multi_strategy=None, n_estimators=500, n_jobs=None,\n",
       "             num_parallel_tree=None, random_state=None, ...)</pre></div></div></div></div></div>"
      ],
      "text/plain": [
       "XGBRegressor(base_score=None, booster=None, callbacks=None,\n",
       "             colsample_bylevel=None, colsample_bynode=None,\n",
       "             colsample_bytree=None, device=None, early_stopping_rounds=None,\n",
       "             enable_categorical=False, eval_metric=None, feature_types=None,\n",
       "             gamma=None, grow_policy=None, importance_type=None,\n",
       "             interaction_constraints=None, learning_rate=0.5, max_bin=None,\n",
       "             max_cat_threshold=None, max_cat_to_onehot=None,\n",
       "             max_delta_step=None, max_depth=2, max_leaves=None,\n",
       "             min_child_weight=None, missing=nan, monotone_constraints=None,\n",
       "             multi_strategy=None, n_estimators=500, n_jobs=None,\n",
       "             num_parallel_tree=None, random_state=None, ...)"
      ]
     },
     "execution_count": 50,
     "metadata": {},
     "output_type": "execute_result"
    }
   ],
   "source": [
    "model = xgb.XGBRegressor(objective='reg:squarederror', n_estimators=500, learning_rate=0.5, max_depth=2)\n",
    "model.fit(X, y)"
   ]
  },
  {
   "cell_type": "code",
   "execution_count": 51,
   "id": "e6a07922",
   "metadata": {
    "execution": {
     "iopub.execute_input": "2025-02-28T22:29:54.450979Z",
     "iopub.status.busy": "2025-02-28T22:29:54.450673Z",
     "iopub.status.idle": "2025-02-28T22:29:54.901355Z",
     "shell.execute_reply": "2025-02-28T22:29:54.900592Z"
    },
    "papermill": {
     "duration": 0.483929,
     "end_time": "2025-02-28T22:29:54.902903",
     "exception": false,
     "start_time": "2025-02-28T22:29:54.418974",
     "status": "completed"
    },
    "tags": []
   },
   "outputs": [
    {
     "data": {
      "text/plain": [
       "array([80.721306, 81.69826 , 82.87817 , ..., 82.197105, 81.29297 ,\n",
       "       81.74663 ], dtype=float32)"
      ]
     },
     "execution_count": 51,
     "metadata": {},
     "output_type": "execute_result"
    }
   ],
   "source": [
    "y_pred = model.predict(test_encoded)\n",
    "y_pred"
   ]
  },
  {
   "cell_type": "markdown",
   "id": "1479791c",
   "metadata": {
    "papermill": {
     "duration": 0.031073,
     "end_time": "2025-02-28T22:29:54.967968",
     "exception": false,
     "start_time": "2025-02-28T22:29:54.936895",
     "status": "completed"
    },
    "tags": []
   },
   "source": [
    "## Train"
   ]
  },
  {
   "cell_type": "code",
   "execution_count": 52,
   "id": "96c0ec6c",
   "metadata": {
    "execution": {
     "iopub.execute_input": "2025-02-28T22:29:55.031705Z",
     "iopub.status.busy": "2025-02-28T22:29:55.031393Z",
     "iopub.status.idle": "2025-02-28T22:30:22.751300Z",
     "shell.execute_reply": "2025-02-28T22:30:22.750539Z"
    },
    "papermill": {
     "duration": 27.75328,
     "end_time": "2025-02-28T22:30:22.752731",
     "exception": false,
     "start_time": "2025-02-28T22:29:54.999451",
     "status": "completed"
    },
    "tags": []
   },
   "outputs": [
    {
     "data": {
      "text/html": [
       "<style>#sk-container-id-3 {color: black;background-color: white;}#sk-container-id-3 pre{padding: 0;}#sk-container-id-3 div.sk-toggleable {background-color: white;}#sk-container-id-3 label.sk-toggleable__label {cursor: pointer;display: block;width: 100%;margin-bottom: 0;padding: 0.3em;box-sizing: border-box;text-align: center;}#sk-container-id-3 label.sk-toggleable__label-arrow:before {content: \"▸\";float: left;margin-right: 0.25em;color: #696969;}#sk-container-id-3 label.sk-toggleable__label-arrow:hover:before {color: black;}#sk-container-id-3 div.sk-estimator:hover label.sk-toggleable__label-arrow:before {color: black;}#sk-container-id-3 div.sk-toggleable__content {max-height: 0;max-width: 0;overflow: hidden;text-align: left;background-color: #f0f8ff;}#sk-container-id-3 div.sk-toggleable__content pre {margin: 0.2em;color: black;border-radius: 0.25em;background-color: #f0f8ff;}#sk-container-id-3 input.sk-toggleable__control:checked~div.sk-toggleable__content {max-height: 200px;max-width: 100%;overflow: auto;}#sk-container-id-3 input.sk-toggleable__control:checked~label.sk-toggleable__label-arrow:before {content: \"▾\";}#sk-container-id-3 div.sk-estimator input.sk-toggleable__control:checked~label.sk-toggleable__label {background-color: #d4ebff;}#sk-container-id-3 div.sk-label input.sk-toggleable__control:checked~label.sk-toggleable__label {background-color: #d4ebff;}#sk-container-id-3 input.sk-hidden--visually {border: 0;clip: rect(1px 1px 1px 1px);clip: rect(1px, 1px, 1px, 1px);height: 1px;margin: -1px;overflow: hidden;padding: 0;position: absolute;width: 1px;}#sk-container-id-3 div.sk-estimator {font-family: monospace;background-color: #f0f8ff;border: 1px dotted black;border-radius: 0.25em;box-sizing: border-box;margin-bottom: 0.5em;}#sk-container-id-3 div.sk-estimator:hover {background-color: #d4ebff;}#sk-container-id-3 div.sk-parallel-item::after {content: \"\";width: 100%;border-bottom: 1px solid gray;flex-grow: 1;}#sk-container-id-3 div.sk-label:hover label.sk-toggleable__label {background-color: #d4ebff;}#sk-container-id-3 div.sk-serial::before {content: \"\";position: absolute;border-left: 1px solid gray;box-sizing: border-box;top: 0;bottom: 0;left: 50%;z-index: 0;}#sk-container-id-3 div.sk-serial {display: flex;flex-direction: column;align-items: center;background-color: white;padding-right: 0.2em;padding-left: 0.2em;position: relative;}#sk-container-id-3 div.sk-item {position: relative;z-index: 1;}#sk-container-id-3 div.sk-parallel {display: flex;align-items: stretch;justify-content: center;background-color: white;position: relative;}#sk-container-id-3 div.sk-item::before, #sk-container-id-3 div.sk-parallel-item::before {content: \"\";position: absolute;border-left: 1px solid gray;box-sizing: border-box;top: 0;bottom: 0;left: 50%;z-index: -1;}#sk-container-id-3 div.sk-parallel-item {display: flex;flex-direction: column;z-index: 1;position: relative;background-color: white;}#sk-container-id-3 div.sk-parallel-item:first-child::after {align-self: flex-end;width: 50%;}#sk-container-id-3 div.sk-parallel-item:last-child::after {align-self: flex-start;width: 50%;}#sk-container-id-3 div.sk-parallel-item:only-child::after {width: 0;}#sk-container-id-3 div.sk-dashed-wrapped {border: 1px dashed gray;margin: 0 0.4em 0.5em 0.4em;box-sizing: border-box;padding-bottom: 0.4em;background-color: white;}#sk-container-id-3 div.sk-label label {font-family: monospace;font-weight: bold;display: inline-block;line-height: 1.2em;}#sk-container-id-3 div.sk-label-container {text-align: center;}#sk-container-id-3 div.sk-container {/* jupyter's `normalize.less` sets `[hidden] { display: none; }` but bootstrap.min.css set `[hidden] { display: none !important; }` so we also need the `!important` here to be able to override the default hidden behavior on the sphinx rendered scikit-learn.org. See: https://github.com/scikit-learn/scikit-learn/issues/21755 */display: inline-block !important;position: relative;}#sk-container-id-3 div.sk-text-repr-fallback {display: none;}</style><div id=\"sk-container-id-3\" class=\"sk-top-container\"><div class=\"sk-text-repr-fallback\"><pre>XGBRegressor(base_score=None, booster=None, callbacks=None,\n",
       "             colsample_bylevel=None, colsample_bynode=None,\n",
       "             colsample_bytree=None, device=None, early_stopping_rounds=None,\n",
       "             enable_categorical=False, eval_metric=None, feature_types=None,\n",
       "             gamma=None, grow_policy=None, importance_type=None,\n",
       "             interaction_constraints=None, learning_rate=0.2, max_bin=None,\n",
       "             max_cat_threshold=None, max_cat_to_onehot=None,\n",
       "             max_delta_step=None, max_depth=None, max_leaves=None,\n",
       "             min_child_weight=None, missing=nan, monotone_constraints=None,\n",
       "             multi_strategy=None, n_estimators=200, n_jobs=None,\n",
       "             num_parallel_tree=None, random_state=None, ...)</pre><b>In a Jupyter environment, please rerun this cell to show the HTML representation or trust the notebook. <br />On GitHub, the HTML representation is unable to render, please try loading this page with nbviewer.org.</b></div><div class=\"sk-container\" hidden><div class=\"sk-item\"><div class=\"sk-estimator sk-toggleable\"><input class=\"sk-toggleable__control sk-hidden--visually\" id=\"sk-estimator-id-3\" type=\"checkbox\" checked><label for=\"sk-estimator-id-3\" class=\"sk-toggleable__label sk-toggleable__label-arrow\">XGBRegressor</label><div class=\"sk-toggleable__content\"><pre>XGBRegressor(base_score=None, booster=None, callbacks=None,\n",
       "             colsample_bylevel=None, colsample_bynode=None,\n",
       "             colsample_bytree=None, device=None, early_stopping_rounds=None,\n",
       "             enable_categorical=False, eval_metric=None, feature_types=None,\n",
       "             gamma=None, grow_policy=None, importance_type=None,\n",
       "             interaction_constraints=None, learning_rate=0.2, max_bin=None,\n",
       "             max_cat_threshold=None, max_cat_to_onehot=None,\n",
       "             max_delta_step=None, max_depth=None, max_leaves=None,\n",
       "             min_child_weight=None, missing=nan, monotone_constraints=None,\n",
       "             multi_strategy=None, n_estimators=200, n_jobs=None,\n",
       "             num_parallel_tree=None, random_state=None, ...)</pre></div></div></div></div></div>"
      ],
      "text/plain": [
       "XGBRegressor(base_score=None, booster=None, callbacks=None,\n",
       "             colsample_bylevel=None, colsample_bynode=None,\n",
       "             colsample_bytree=None, device=None, early_stopping_rounds=None,\n",
       "             enable_categorical=False, eval_metric=None, feature_types=None,\n",
       "             gamma=None, grow_policy=None, importance_type=None,\n",
       "             interaction_constraints=None, learning_rate=0.2, max_bin=None,\n",
       "             max_cat_threshold=None, max_cat_to_onehot=None,\n",
       "             max_delta_step=None, max_depth=None, max_leaves=None,\n",
       "             min_child_weight=None, missing=nan, monotone_constraints=None,\n",
       "             multi_strategy=None, n_estimators=200, n_jobs=None,\n",
       "             num_parallel_tree=None, random_state=None, ...)"
      ]
     },
     "execution_count": 52,
     "metadata": {},
     "output_type": "execute_result"
    }
   ],
   "source": [
    "model = xgb.XGBRegressor(objective='reg:squarederror', n_estimators=200, learning_rate=0.2)\n",
    "model.fit(X_train, y_train)"
   ]
  },
  {
   "cell_type": "code",
   "execution_count": 53,
   "id": "805dc610",
   "metadata": {
    "execution": {
     "iopub.execute_input": "2025-02-28T22:30:22.818601Z",
     "iopub.status.busy": "2025-02-28T22:30:22.818283Z",
     "iopub.status.idle": "2025-02-28T22:30:24.958938Z",
     "shell.execute_reply": "2025-02-28T22:30:24.957238Z"
    },
    "papermill": {
     "duration": 2.174336,
     "end_time": "2025-02-28T22:30:24.960319",
     "exception": false,
     "start_time": "2025-02-28T22:30:22.785983",
     "status": "completed"
    },
    "tags": []
   },
   "outputs": [
    {
     "name": "stdout",
     "output_type": "stream",
     "text": [
      "RMSE: 38.895426479663264\n"
     ]
    }
   ],
   "source": [
    "y_pred = model.predict(X_test)\n",
    "rmse = np.sqrt(mean_squared_error(y_test, y_pred))\n",
    "print(f'RMSE: {rmse}')"
   ]
  },
  {
   "cell_type": "markdown",
   "id": "e8a67b34",
   "metadata": {
    "papermill": {
     "duration": 0.031013,
     "end_time": "2025-02-28T22:30:25.024214",
     "exception": false,
     "start_time": "2025-02-28T22:30:24.993201",
     "status": "completed"
    },
    "tags": []
   },
   "source": [
    "## Using all dataframe to train"
   ]
  },
  {
   "cell_type": "code",
   "execution_count": 54,
   "id": "7dea794a",
   "metadata": {
    "execution": {
     "iopub.execute_input": "2025-02-28T22:30:25.087976Z",
     "iopub.status.busy": "2025-02-28T22:30:25.087634Z",
     "iopub.status.idle": "2025-02-28T22:30:48.741361Z",
     "shell.execute_reply": "2025-02-28T22:30:48.740480Z"
    },
    "papermill": {
     "duration": 23.687872,
     "end_time": "2025-02-28T22:30:48.743306",
     "exception": false,
     "start_time": "2025-02-28T22:30:25.055434",
     "status": "completed"
    },
    "tags": []
   },
   "outputs": [
    {
     "data": {
      "text/html": [
       "<style>#sk-container-id-4 {color: black;background-color: white;}#sk-container-id-4 pre{padding: 0;}#sk-container-id-4 div.sk-toggleable {background-color: white;}#sk-container-id-4 label.sk-toggleable__label {cursor: pointer;display: block;width: 100%;margin-bottom: 0;padding: 0.3em;box-sizing: border-box;text-align: center;}#sk-container-id-4 label.sk-toggleable__label-arrow:before {content: \"▸\";float: left;margin-right: 0.25em;color: #696969;}#sk-container-id-4 label.sk-toggleable__label-arrow:hover:before {color: black;}#sk-container-id-4 div.sk-estimator:hover label.sk-toggleable__label-arrow:before {color: black;}#sk-container-id-4 div.sk-toggleable__content {max-height: 0;max-width: 0;overflow: hidden;text-align: left;background-color: #f0f8ff;}#sk-container-id-4 div.sk-toggleable__content pre {margin: 0.2em;color: black;border-radius: 0.25em;background-color: #f0f8ff;}#sk-container-id-4 input.sk-toggleable__control:checked~div.sk-toggleable__content {max-height: 200px;max-width: 100%;overflow: auto;}#sk-container-id-4 input.sk-toggleable__control:checked~label.sk-toggleable__label-arrow:before {content: \"▾\";}#sk-container-id-4 div.sk-estimator input.sk-toggleable__control:checked~label.sk-toggleable__label {background-color: #d4ebff;}#sk-container-id-4 div.sk-label input.sk-toggleable__control:checked~label.sk-toggleable__label {background-color: #d4ebff;}#sk-container-id-4 input.sk-hidden--visually {border: 0;clip: rect(1px 1px 1px 1px);clip: rect(1px, 1px, 1px, 1px);height: 1px;margin: -1px;overflow: hidden;padding: 0;position: absolute;width: 1px;}#sk-container-id-4 div.sk-estimator {font-family: monospace;background-color: #f0f8ff;border: 1px dotted black;border-radius: 0.25em;box-sizing: border-box;margin-bottom: 0.5em;}#sk-container-id-4 div.sk-estimator:hover {background-color: #d4ebff;}#sk-container-id-4 div.sk-parallel-item::after {content: \"\";width: 100%;border-bottom: 1px solid gray;flex-grow: 1;}#sk-container-id-4 div.sk-label:hover label.sk-toggleable__label {background-color: #d4ebff;}#sk-container-id-4 div.sk-serial::before {content: \"\";position: absolute;border-left: 1px solid gray;box-sizing: border-box;top: 0;bottom: 0;left: 50%;z-index: 0;}#sk-container-id-4 div.sk-serial {display: flex;flex-direction: column;align-items: center;background-color: white;padding-right: 0.2em;padding-left: 0.2em;position: relative;}#sk-container-id-4 div.sk-item {position: relative;z-index: 1;}#sk-container-id-4 div.sk-parallel {display: flex;align-items: stretch;justify-content: center;background-color: white;position: relative;}#sk-container-id-4 div.sk-item::before, #sk-container-id-4 div.sk-parallel-item::before {content: \"\";position: absolute;border-left: 1px solid gray;box-sizing: border-box;top: 0;bottom: 0;left: 50%;z-index: -1;}#sk-container-id-4 div.sk-parallel-item {display: flex;flex-direction: column;z-index: 1;position: relative;background-color: white;}#sk-container-id-4 div.sk-parallel-item:first-child::after {align-self: flex-end;width: 50%;}#sk-container-id-4 div.sk-parallel-item:last-child::after {align-self: flex-start;width: 50%;}#sk-container-id-4 div.sk-parallel-item:only-child::after {width: 0;}#sk-container-id-4 div.sk-dashed-wrapped {border: 1px dashed gray;margin: 0 0.4em 0.5em 0.4em;box-sizing: border-box;padding-bottom: 0.4em;background-color: white;}#sk-container-id-4 div.sk-label label {font-family: monospace;font-weight: bold;display: inline-block;line-height: 1.2em;}#sk-container-id-4 div.sk-label-container {text-align: center;}#sk-container-id-4 div.sk-container {/* jupyter's `normalize.less` sets `[hidden] { display: none; }` but bootstrap.min.css set `[hidden] { display: none !important; }` so we also need the `!important` here to be able to override the default hidden behavior on the sphinx rendered scikit-learn.org. See: https://github.com/scikit-learn/scikit-learn/issues/21755 */display: inline-block !important;position: relative;}#sk-container-id-4 div.sk-text-repr-fallback {display: none;}</style><div id=\"sk-container-id-4\" class=\"sk-top-container\"><div class=\"sk-text-repr-fallback\"><pre>XGBRegressor(base_score=None, booster=None, callbacks=None,\n",
       "             colsample_bylevel=None, colsample_bynode=None,\n",
       "             colsample_bytree=None, device=None, early_stopping_rounds=None,\n",
       "             enable_categorical=False, eval_metric=None, feature_types=None,\n",
       "             gamma=None, grow_policy=None, importance_type=None,\n",
       "             interaction_constraints=None, learning_rate=0.1, max_bin=None,\n",
       "             max_cat_threshold=None, max_cat_to_onehot=None,\n",
       "             max_delta_step=None, max_depth=None, max_leaves=None,\n",
       "             min_child_weight=None, missing=nan, monotone_constraints=None,\n",
       "             multi_strategy=None, n_estimators=100, n_jobs=None,\n",
       "             num_parallel_tree=None, random_state=None, ...)</pre><b>In a Jupyter environment, please rerun this cell to show the HTML representation or trust the notebook. <br />On GitHub, the HTML representation is unable to render, please try loading this page with nbviewer.org.</b></div><div class=\"sk-container\" hidden><div class=\"sk-item\"><div class=\"sk-estimator sk-toggleable\"><input class=\"sk-toggleable__control sk-hidden--visually\" id=\"sk-estimator-id-4\" type=\"checkbox\" checked><label for=\"sk-estimator-id-4\" class=\"sk-toggleable__label sk-toggleable__label-arrow\">XGBRegressor</label><div class=\"sk-toggleable__content\"><pre>XGBRegressor(base_score=None, booster=None, callbacks=None,\n",
       "             colsample_bylevel=None, colsample_bynode=None,\n",
       "             colsample_bytree=None, device=None, early_stopping_rounds=None,\n",
       "             enable_categorical=False, eval_metric=None, feature_types=None,\n",
       "             gamma=None, grow_policy=None, importance_type=None,\n",
       "             interaction_constraints=None, learning_rate=0.1, max_bin=None,\n",
       "             max_cat_threshold=None, max_cat_to_onehot=None,\n",
       "             max_delta_step=None, max_depth=None, max_leaves=None,\n",
       "             min_child_weight=None, missing=nan, monotone_constraints=None,\n",
       "             multi_strategy=None, n_estimators=100, n_jobs=None,\n",
       "             num_parallel_tree=None, random_state=None, ...)</pre></div></div></div></div></div>"
      ],
      "text/plain": [
       "XGBRegressor(base_score=None, booster=None, callbacks=None,\n",
       "             colsample_bylevel=None, colsample_bynode=None,\n",
       "             colsample_bytree=None, device=None, early_stopping_rounds=None,\n",
       "             enable_categorical=False, eval_metric=None, feature_types=None,\n",
       "             gamma=None, grow_policy=None, importance_type=None,\n",
       "             interaction_constraints=None, learning_rate=0.1, max_bin=None,\n",
       "             max_cat_threshold=None, max_cat_to_onehot=None,\n",
       "             max_delta_step=None, max_depth=None, max_leaves=None,\n",
       "             min_child_weight=None, missing=nan, monotone_constraints=None,\n",
       "             multi_strategy=None, n_estimators=100, n_jobs=None,\n",
       "             num_parallel_tree=None, random_state=None, ...)"
      ]
     },
     "execution_count": 54,
     "metadata": {},
     "output_type": "execute_result"
    }
   ],
   "source": [
    "model = xgb.XGBRegressor(objective='reg:squarederror', n_estimators=100, learning_rate=0.1)\n",
    "model.fit(X, y)"
   ]
  },
  {
   "cell_type": "code",
   "execution_count": 55,
   "id": "ddb911d5",
   "metadata": {
    "execution": {
     "iopub.execute_input": "2025-02-28T22:30:48.822070Z",
     "iopub.status.busy": "2025-02-28T22:30:48.821740Z",
     "iopub.status.idle": "2025-02-28T22:30:49.213044Z",
     "shell.execute_reply": "2025-02-28T22:30:49.211242Z"
    },
    "papermill": {
     "duration": 0.430916,
     "end_time": "2025-02-28T22:30:49.214602",
     "exception": false,
     "start_time": "2025-02-28T22:30:48.783686",
     "status": "completed"
    },
    "tags": []
   },
   "outputs": [
    {
     "data": {
      "text/plain": [
       "array([81.30546 , 81.97165 , 82.725334, ..., 83.55958 , 81.82034 ,\n",
       "       80.88775 ], dtype=float32)"
      ]
     },
     "execution_count": 55,
     "metadata": {},
     "output_type": "execute_result"
    }
   ],
   "source": [
    "y_pred = model.predict(test_encoded)\n",
    "y_pred"
   ]
  },
  {
   "cell_type": "markdown",
   "id": "8583927e",
   "metadata": {
    "papermill": {
     "duration": 0.031582,
     "end_time": "2025-02-28T22:30:49.280256",
     "exception": false,
     "start_time": "2025-02-28T22:30:49.248674",
     "status": "completed"
    },
    "tags": []
   },
   "source": [
    "## Submission"
   ]
  },
  {
   "cell_type": "code",
   "execution_count": 56,
   "id": "8ca2d8e9",
   "metadata": {
    "execution": {
     "iopub.execute_input": "2025-02-28T22:30:49.345505Z",
     "iopub.status.busy": "2025-02-28T22:30:49.345207Z",
     "iopub.status.idle": "2025-02-28T22:30:49.353715Z",
     "shell.execute_reply": "2025-02-28T22:30:49.352953Z"
    },
    "papermill": {
     "duration": 0.042842,
     "end_time": "2025-02-28T22:30:49.354991",
     "exception": false,
     "start_time": "2025-02-28T22:30:49.312149",
     "status": "completed"
    },
    "tags": []
   },
   "outputs": [
    {
     "data": {
      "text/html": [
       "<div>\n",
       "<style scoped>\n",
       "    .dataframe tbody tr th:only-of-type {\n",
       "        vertical-align: middle;\n",
       "    }\n",
       "\n",
       "    .dataframe tbody tr th {\n",
       "        vertical-align: top;\n",
       "    }\n",
       "\n",
       "    .dataframe thead th {\n",
       "        text-align: right;\n",
       "    }\n",
       "</style>\n",
       "<table border=\"1\" class=\"dataframe\">\n",
       "  <thead>\n",
       "    <tr style=\"text-align: right;\">\n",
       "      <th></th>\n",
       "      <th>id</th>\n",
       "      <th>Price</th>\n",
       "    </tr>\n",
       "  </thead>\n",
       "  <tbody>\n",
       "    <tr>\n",
       "      <th>0</th>\n",
       "      <td>300000</td>\n",
       "      <td>81.305458</td>\n",
       "    </tr>\n",
       "    <tr>\n",
       "      <th>1</th>\n",
       "      <td>300001</td>\n",
       "      <td>81.971649</td>\n",
       "    </tr>\n",
       "    <tr>\n",
       "      <th>2</th>\n",
       "      <td>300002</td>\n",
       "      <td>82.725334</td>\n",
       "    </tr>\n",
       "    <tr>\n",
       "      <th>3</th>\n",
       "      <td>300003</td>\n",
       "      <td>81.578751</td>\n",
       "    </tr>\n",
       "    <tr>\n",
       "      <th>4</th>\n",
       "      <td>300004</td>\n",
       "      <td>77.804817</td>\n",
       "    </tr>\n",
       "    <tr>\n",
       "      <th>...</th>\n",
       "      <td>...</td>\n",
       "      <td>...</td>\n",
       "    </tr>\n",
       "    <tr>\n",
       "      <th>199995</th>\n",
       "      <td>499995</td>\n",
       "      <td>79.735237</td>\n",
       "    </tr>\n",
       "    <tr>\n",
       "      <th>199996</th>\n",
       "      <td>499996</td>\n",
       "      <td>77.295891</td>\n",
       "    </tr>\n",
       "    <tr>\n",
       "      <th>199997</th>\n",
       "      <td>499997</td>\n",
       "      <td>83.559578</td>\n",
       "    </tr>\n",
       "    <tr>\n",
       "      <th>199998</th>\n",
       "      <td>499998</td>\n",
       "      <td>81.820343</td>\n",
       "    </tr>\n",
       "    <tr>\n",
       "      <th>199999</th>\n",
       "      <td>499999</td>\n",
       "      <td>80.887749</td>\n",
       "    </tr>\n",
       "  </tbody>\n",
       "</table>\n",
       "<p>200000 rows × 2 columns</p>\n",
       "</div>"
      ],
      "text/plain": [
       "            id      Price\n",
       "0       300000  81.305458\n",
       "1       300001  81.971649\n",
       "2       300002  82.725334\n",
       "3       300003  81.578751\n",
       "4       300004  77.804817\n",
       "...        ...        ...\n",
       "199995  499995  79.735237\n",
       "199996  499996  77.295891\n",
       "199997  499997  83.559578\n",
       "199998  499998  81.820343\n",
       "199999  499999  80.887749\n",
       "\n",
       "[200000 rows x 2 columns]"
      ]
     },
     "execution_count": 56,
     "metadata": {},
     "output_type": "execute_result"
    }
   ],
   "source": [
    "submission['Price'] = y_pred\n",
    "submission"
   ]
  },
  {
   "cell_type": "code",
   "execution_count": 57,
   "id": "df0897e9",
   "metadata": {
    "execution": {
     "iopub.execute_input": "2025-02-28T22:30:49.421764Z",
     "iopub.status.busy": "2025-02-28T22:30:49.421443Z",
     "iopub.status.idle": "2025-02-28T22:30:49.425334Z",
     "shell.execute_reply": "2025-02-28T22:30:49.424682Z"
    },
    "papermill": {
     "duration": 0.038085,
     "end_time": "2025-02-28T22:30:49.426664",
     "exception": false,
     "start_time": "2025-02-28T22:30:49.388579",
     "status": "completed"
    },
    "tags": []
   },
   "outputs": [],
   "source": [
    "# Remove old file(s)\n",
    "import os\n",
    "os.remove('/kaggle/working/submission.csv')"
   ]
  },
  {
   "cell_type": "code",
   "execution_count": 58,
   "id": "1eeda70a",
   "metadata": {
    "execution": {
     "iopub.execute_input": "2025-02-28T22:30:49.492135Z",
     "iopub.status.busy": "2025-02-28T22:30:49.491852Z",
     "iopub.status.idle": "2025-02-28T22:30:49.723873Z",
     "shell.execute_reply": "2025-02-28T22:30:49.723180Z"
    },
    "papermill": {
     "duration": 0.266476,
     "end_time": "2025-02-28T22:30:49.725503",
     "exception": false,
     "start_time": "2025-02-28T22:30:49.459027",
     "status": "completed"
    },
    "tags": []
   },
   "outputs": [],
   "source": [
    "submission.to_csv('submission.csv', index=False)"
   ]
  },
  {
   "cell_type": "code",
   "execution_count": null,
   "id": "0c1432f8",
   "metadata": {
    "papermill": {
     "duration": 0.031187,
     "end_time": "2025-02-28T22:30:49.789241",
     "exception": false,
     "start_time": "2025-02-28T22:30:49.758054",
     "status": "completed"
    },
    "tags": []
   },
   "outputs": [],
   "source": []
  }
 ],
 "metadata": {
  "kaggle": {
   "accelerator": "gpu",
   "dataSources": [
    {
     "databundleVersionId": 10995111,
     "sourceId": 90274,
     "sourceType": "competition"
    }
   ],
   "dockerImageVersionId": 30918,
   "isGpuEnabled": true,
   "isInternetEnabled": true,
   "language": "python",
   "sourceType": "notebook"
  },
  "kernelspec": {
   "display_name": "Python 3",
   "language": "python",
   "name": "python3"
  },
  "language_info": {
   "codemirror_mode": {
    "name": "ipython",
    "version": 3
   },
   "file_extension": ".py",
   "mimetype": "text/x-python",
   "name": "python",
   "nbconvert_exporter": "python",
   "pygments_lexer": "ipython3",
   "version": "3.10.12"
  },
  "papermill": {
   "default_parameters": {},
   "duration": 2458.039493,
   "end_time": "2025-02-28T22:30:50.844655",
   "environment_variables": {},
   "exception": null,
   "input_path": "__notebook__.ipynb",
   "output_path": "__notebook__.ipynb",
   "parameters": {},
   "start_time": "2025-02-28T21:49:52.805162",
   "version": "2.6.0"
  }
 },
 "nbformat": 4,
 "nbformat_minor": 5
}
